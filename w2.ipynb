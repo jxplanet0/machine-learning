{
 "cells": [
  {
   "cell_type": "code",
   "execution_count": 73,
   "id": "fb90d01e",
   "metadata": {},
   "outputs": [
    {
     "name": "stdout",
     "output_type": "stream",
     "text": [
      "     #   X   Y  CLASS\n",
      "0    1   4  53      1\n",
      "1    2   5  63      1\n",
      "2    3  10  59      1\n",
      "3    4   9  77      1\n",
      "4    5  13  49      1\n",
      "..  ..  ..  ..    ...\n",
      "70  71  66  23      4\n",
      "71  72  61  25      4\n",
      "72  73  76  27      4\n",
      "73  74  72  31      4\n",
      "74  75  64  30      4\n",
      "\n",
      "[75 rows x 4 columns]\n"
     ]
    }
   ],
   "source": [
    "import pandas as pd \n",
    "dataset = pd.read_csv('/Users/farrelmanazilin/Downloads/data/ruspini.csv')\n",
    "print(dataset)"
   ]
  },
  {
   "cell_type": "code",
   "execution_count": 74,
   "id": "3798425f",
   "metadata": {},
   "outputs": [
    {
     "name": "stdout",
     "output_type": "stream",
     "text": [
      "Data trainingnya adalah = \n",
      " [[  4  53]\n",
      " [  5  63]\n",
      " [ 10  59]\n",
      " [  9  77]\n",
      " [ 13  49]\n",
      " [ 13  69]\n",
      " [ 12  88]\n",
      " [ 15  75]\n",
      " [ 18  61]\n",
      " [ 19  65]\n",
      " [ 22  74]\n",
      " [ 27  72]\n",
      " [ 28  76]\n",
      " [ 24  58]\n",
      " [ 27  55]\n",
      " [ 28  60]\n",
      " [ 30  52]\n",
      " [ 31  60]\n",
      " [ 32  61]\n",
      " [ 36  72]\n",
      " [ 86 132]\n",
      " [ 85 115]\n",
      " [ 85  96]\n",
      " [ 78  94]\n",
      " [ 74  96]\n",
      " [ 97 122]\n",
      " [ 98 116]\n",
      " [ 98 124]\n",
      " [ 99 119]\n",
      " [ 99 128]\n",
      " [101 115]\n",
      " [108 111]\n",
      " [110 111]\n",
      " [108 116]\n",
      " [111 126]\n",
      " [115 117]\n",
      " [117 115]\n",
      " [ 28 147]\n",
      " [ 32 149]\n",
      " [ 35 153]\n",
      " [ 33 154]\n",
      " [ 38 151]\n",
      " [ 41 150]\n",
      " [ 38 145]\n",
      " [ 38 143]\n",
      " [ 32 143]\n",
      " [ 34 141]\n",
      " [ 44 156]\n",
      " [ 44 149]\n",
      " [ 44 143]\n",
      " [ 46 142]\n",
      " [ 47 149]\n",
      " [ 49 152]\n",
      " [ 50 142]\n",
      " [ 53 144]\n",
      " [ 52 152]\n",
      " [ 55 155]\n",
      " [ 54 124]\n",
      " [ 60 136]\n",
      " [ 63 139]\n",
      " [ 70   4]\n",
      " [ 77  12]\n",
      " [ 83  21]\n",
      " [ 61  15]\n",
      " [ 69  15]\n",
      " [ 78  16]\n",
      " [ 66  18]\n",
      " [ 58  13]\n",
      " [ 64  20]\n",
      " [ 69  21]\n",
      " [ 66  23]\n",
      " [ 61  25]\n",
      " [ 76  27]\n",
      " [ 72  31]\n",
      " [ 64  30]]\n"
     ]
    }
   ],
   "source": [
    "import pandas as pd \n",
    "import numpy as np \n",
    "dataset = pd.read_csv('/Users/farrelmanazilin/Downloads/data/ruspini.csv')\n",
    "data_training = np.array(dataset)[:,1:-1]\n",
    "print(\"Data trainingnya adalah = \\n\",data_training)"
   ]
  },
  {
   "cell_type": "code",
   "execution_count": 78,
   "id": "587672f4",
   "metadata": {},
   "outputs": [
    {
     "name": "stdout",
     "output_type": "stream",
     "text": [
      "Targetnya adalah = \n",
      " [1 1 1 1 1 1 1 1 1 1 1 1 1 1 1 1 1 1 1 1 2 2 2 2 2 2 2 2 2 2 2 2 2 2 2 2 2\n",
      " 3 3 3 3 3 3 3 3 3 3 3 3 3 3 3 3 3 3 3 3 3 3 3 4 4 4 4 4 4 4 4 4 4 4 4 4 4\n",
      " 4]\n"
     ]
    }
   ],
   "source": [
    "target = np.array(dataset)[:,-1]\n",
    "print(\"Targetnya adalah = \\n\",target)"
   ]
  },
  {
   "cell_type": "code",
   "execution_count": 86,
   "id": "99fd87aa",
   "metadata": {},
   "outputs": [
    {
     "name": "stdout",
     "output_type": "stream",
     "text": [
      "   Example    Sky  Temp Humidity    Wind Water Forecast EnjoySport\n",
      "0        1  Sunny  Warm   Normal  Strong  Warm     Same        Yes\n",
      "1        2  Sunny  Warm     High  Strong  Warm     Same        Yes\n",
      "2        3  Rainy  Cold     High  Strong  Warm   Change         No\n",
      "3        4  Sunny  Warm     High  Strong  Cool   Change        Yes\n"
     ]
    }
   ],
   "source": [
    "import pandas as pd \n",
    "import numpy as np \n",
    "dataset2 = pd.read_csv('/Users/farrelmanazilin/Downloads/data/sport.csv')\n",
    "print(dataset2)"
   ]
  },
  {
   "cell_type": "code",
   "execution_count": 80,
   "id": "21cf8545",
   "metadata": {},
   "outputs": [
    {
     "name": "stdout",
     "output_type": "stream",
     "text": [
      "Data training ke-2 adalah = \n",
      " [['Sunny' 'Warm' 'Normal' 'Strong' 'Warm' 'Same']\n",
      " ['Sunny' 'Warm' 'High' 'Strong' 'Warm' 'Same']\n",
      " ['Rainy' 'Cold' 'High' 'Strong' 'Warm' 'Change']\n",
      " ['Sunny' 'Warm' 'High' 'Strong' 'Cool' 'Change']]\n"
     ]
    }
   ],
   "source": [
    "data_training_2 = np.array(dataset2)[:,1:7]\n",
    "print(\"Data training ke-2 adalah = \\n\",data_training_2)"
   ]
  },
  {
   "cell_type": "code",
   "execution_count": 81,
   "id": "765ffd22",
   "metadata": {},
   "outputs": [
    {
     "name": "stdout",
     "output_type": "stream",
     "text": [
      "Target ke-2 adalah = \n",
      " ['Yes' 'Yes' 'No' 'Yes']\n"
     ]
    }
   ],
   "source": [
    "target_2 = np.array(dataset2)[:,-1]\n",
    "print(\"Target ke-2 adalah = \\n\",target_2)"
   ]
  },
  {
   "cell_type": "code",
   "execution_count": 89,
   "id": "05a9529d",
   "metadata": {},
   "outputs": [
    {
     "name": "stdout",
     "output_type": "stream",
     "text": [
      "Hipotesa: ['Sunny' 'Warm' '?' 'Strong' '?' '?']\n"
     ]
    }
   ],
   "source": [
    "def finds(train, target): \n",
    "    for i, val in enumerate(target): \n",
    "        if val == \"Yes\": \n",
    "            hypothesis = train[i].copy() \n",
    "            break \n",
    "    for i, val in enumerate(train): \n",
    "        if target[i] == \"Yes\": \n",
    "            for x in range(len(hypothesis)): \n",
    "                if val[x] != hypothesis[x]: \n",
    "                        hypothesis[x] = '?' \n",
    "                else: \n",
    "                     pass  \n",
    "    return hypothesis \n",
    "print(\"Hipotesa:\",finds(data_training_2,target_2))"
   ]
  },
  {
   "cell_type": "code",
   "execution_count": 83,
   "id": "449a1d42",
   "metadata": {},
   "outputs": [
    {
     "name": "stdout",
     "output_type": "stream",
     "text": [
      "Data test =  ['Sunny' 'Warm' 'Normal' 'Strong' 'Cool' 'Same']\n"
     ]
    }
   ],
   "source": [
    "data_test = np.array(['Sunny','Warm','Normal','Strong','Cool','Same'])\n",
    "print(\"Data test = \", data_test)"
   ]
  },
  {
   "cell_type": "code",
   "execution_count": 93,
   "id": "c903ce69",
   "metadata": {},
   "outputs": [
    {
     "name": "stdout",
     "output_type": "stream",
     "text": [
      "Data test =  ['Sunny' 'Warm' 'Normal' 'Strong' 'Cool' 'Same']\n",
      "Prediction: enjoysport\n"
     ]
    }
   ],
   "source": [
    "def check_hypothesis(hypothesis, new_data):\n",
    "    for i in range(len(hypothesis)):\n",
    "        if hypothesis[i] != '?' and hypothesis[i] != new_data[i]:\n",
    "            return False\n",
    "    return True\n",
    "\n",
    "def enjoysport_prediction(hypothesis, new_data):\n",
    "    if check_hypothesis(hypothesis, new_data):\n",
    "        return \"enjoysport\"\n",
    "    else:\n",
    "        return \"does not enjoy sport\"\n",
    "\n",
    "print(\"Data test = \",data_test)\n",
    "prediction = enjoysport_prediction(hypothesis, data_test)\n",
    "print(\"Prediction:\", prediction)"
   ]
  },
  {
   "cell_type": "code",
   "execution_count": 94,
   "id": "2f698f5c",
   "metadata": {},
   "outputs": [
    {
     "name": "stdout",
     "output_type": "stream",
     "text": [
      "Data test =  ['Rainy' 'Warm' 'Normal' 'Strong' 'Cool' 'Change']\n",
      "Prediction: does not enjoy sport\n"
     ]
    }
   ],
   "source": [
    "data_test = np.array(['Rainy','Warm','Normal','Strong','Cool','Change'])\n",
    "print(\"Data test = \", data_test)\n",
    "prediction = enjoysport_prediction(hypothesis, data_test)\n",
    "print(\"Prediction:\", prediction)"
   ]
  },
  {
   "cell_type": "code",
   "execution_count": null,
   "id": "e0d6afb0",
   "metadata": {},
   "outputs": [],
   "source": []
  }
 ],
 "metadata": {
  "kernelspec": {
   "display_name": "Python 3 (ipykernel)",
   "language": "python",
   "name": "python3"
  },
  "language_info": {
   "codemirror_mode": {
    "name": "ipython",
    "version": 3
   },
   "file_extension": ".py",
   "mimetype": "text/x-python",
   "name": "python",
   "nbconvert_exporter": "python",
   "pygments_lexer": "ipython3",
   "version": "3.10.6"
  }
 },
 "nbformat": 4,
 "nbformat_minor": 5
}
