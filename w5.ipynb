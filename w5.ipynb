{
 "cells": [
  {
   "cell_type": "code",
   "execution_count": 32,
   "id": "b7e3f639",
   "metadata": {},
   "outputs": [
    {
     "name": "stdout",
     "output_type": "stream",
     "text": [
      "['high' 'low' 'medium']\n"
     ]
    }
   ],
   "source": [
    "from sklearn.model_selection import train_test_split\n",
    "from sklearn.neighbors import KNeighborsClassifier\n",
    "from sklearn.model_selection import LeaveOneOut\n",
    "from sklearn.preprocessing import MinMaxScaler\n",
    "from sklearn.preprocessing import LabelEncoder\n",
    "from sklearn.naive_bayes import GaussianNB\n",
    "from sklearn.metrics import accuracy_score\n",
    "from sklearn.model_selection import KFold\n",
    "import pandas as pd\n",
    "import numpy as np\n",
    "\n",
    "dataset = pd.read_csv('/Users/farrelmanazilin/Downloads/data/milk.csv')"
   ]
  },
  {
   "cell_type": "markdown",
   "id": "dd07441a",
   "metadata": {},
   "source": [
    "# Hold-out Method (70%-30%)"
   ]
  },
  {
   "cell_type": "code",
   "execution_count": 36,
   "id": "23384191",
   "metadata": {},
   "outputs": [
    {
     "name": "stdout",
     "output_type": "stream",
     "text": [
      "Akurasi tanpa menggunakan normalisasi metode Hold-out (70-30%): 0.9182389937\n",
      "Error ratio tanpa menggunakan normalisasi metode Hold-out (70-30%): 0.0817610063\n"
     ]
    }
   ],
   "source": [
    "label_encoder = LabelEncoder()\n",
    "dataset['Grade'] = label_encoder.fit_transform(dataset['Grade'])\n",
    "\n",
    "datalabel = np.array(dataset)[:,-1]\n",
    "data = np.array(dataset)[:,:-1]\n",
    "\n",
    "xtrain, xtest, ytrain, ytest = train_test_split(data, datalabel, test_size=0.30, random_state=100)\n",
    "\n",
    "classifier = GaussianNB()\n",
    "classifier.fit(xtrain, ytrain)\n",
    "ypred = classifier.predict(xtest)\n",
    "\n",
    "accuracy = accuracy_score(ytest, ypred)\n",
    "error_ratio_holdout = 1 - accuracy\n",
    "\n",
    "print(\"Akurasi tanpa menggunakan normalisasi metode Hold-out (70-30%): {:.10f}\".format(accuracy))\n",
    "print(\"Error ratio tanpa menggunakan normalisasi metode Hold-out (70-30%): {:.10f}\".format(error_ratio_holdout))"
   ]
  },
  {
   "cell_type": "code",
   "execution_count": 4,
   "id": "e31e597b",
   "metadata": {},
   "outputs": [
    {
     "name": "stdout",
     "output_type": "stream",
     "text": [
      "Akurasi untuk metode Hold-out (70-30%): 0.9182389937\n",
      "Error ratio untuk metode Hold-out (70-30%): 0.0817610063\n"
     ]
    }
   ],
   "source": [
    "min_train = xtrain.min()\n",
    "max_train = xtrain.max()\n",
    "newmin = 0\n",
    "newmax = 1\n",
    "\n",
    "xtrain_normalized = ((xtrain - min_train)*(newmax-newmin) / (max_train - min_train))+newmin\n",
    "xtest_normalized = ((xtest - min_train)*(newmax-newmin) / (max_train - min_train))+newmin\n",
    "\n",
    "classifier = GaussianNB()\n",
    "classifier.fit(xtrain_normalized, ytrain)\n",
    "ypred = classifier.predict(xtest_normalized)\n",
    "\n",
    "accuracy = accuracy_score(ytest, ypred)\n",
    "error_ratio_holdout = 1 - accuracy\n",
    "\n",
    "print(\"Akurasi untuk metode Hold-out (70-30%): {:.10f}\".format(accuracy))\n",
    "print(\"Error ratio untuk metode Hold-out (70-30%): {:.10f}\".format(error_ratio_holdout))"
   ]
  },
  {
   "cell_type": "markdown",
   "id": "c8b94c11",
   "metadata": {},
   "source": [
    "# kfold 10"
   ]
  },
  {
   "cell_type": "code",
   "execution_count": 24,
   "id": "27332063",
   "metadata": {},
   "outputs": [
    {
     "name": "stdout",
     "output_type": "stream",
     "text": [
      "Rata-rata Error ratio tanpa menggunakan normalisasi metode Gaussian Naïve Bayes (KFOLD, k=10): 0.0811680144\n",
      "Rata-rata Error akurasi tanpa menggunakan normalisasi metode Gaussian Naïve Bayes (KFOLD, k=10): 0.9188319856\n",
      "Hasil error Kfold tanpa menggunakan normalisasi Gaussian Naïve Bayes\n",
      " [0.23584905660377353, 0.09433962264150941, 0.07547169811320753, 0.08490566037735847, 0.09433962264150941, 0.028301886792452824, 0.09433962264150941, 0.037735849056603765, 0.028301886792452824, 0.03809523809523807]\n",
      "\n",
      "Rata-rata Error ratio untuk metode Gaussian Naïve Bayes (KFOLD, k=10) dengan Normalisasi: 0.0811680144\n",
      "Rata-rata Error akurasi untuk metode Gaussian Naïve Bayes (KFOLD, k=10) dengan Normalisasi: 0.9188319856\n",
      "Hasil error Kfold untuk K-Nearest Neighbors dengan Normalisasi\n",
      " [0.23584905660377353, 0.09433962264150941, 0.07547169811320753, 0.08490566037735847, 0.09433962264150941, 0.028301886792452824, 0.09433962264150941, 0.037735849056603765, 0.028301886792452824, 0.03809523809523807]\n"
     ]
    }
   ],
   "source": [
    "kf = KFold(n_splits=10, random_state=0, shuffle=True)\n",
    "p = 0\n",
    "error_ratios = []\n",
    "error_ratios_normalized = []\n",
    "\n",
    "for train_index, test_index in kf.split(dataset):\n",
    "    p = p + 1\n",
    "    xtrain = dataset.iloc[train_index, :-1]  \n",
    "    xtest = dataset.iloc[test_index, :-1]    \n",
    "    ytrain = dataset.iloc[train_index, -1]    \n",
    "    ytest = dataset.iloc[test_index, -1]      \n",
    "\n",
    "    # Gaussian Naïve Bayes within K-Fold loop (Non-normalized data)\n",
    "    classifier = GaussianNB()\n",
    "    classifier.fit(xtrain, ytrain)\n",
    "    ypred = classifier.predict(xtest)\n",
    "\n",
    "    accuracy = accuracy_score(ytest, ypred)\n",
    "    error_ratio = 1 - accuracy\n",
    "    error_ratios.append(error_ratio)\n",
    "\n",
    "    # Min-max scaling for K-Nearest Neighbors within K-Fold loop\n",
    "    scaler = MinMaxScaler()\n",
    "    xtrain_normalized = scaler.fit_transform(xtrain)\n",
    "    xtest_normalized = scaler.transform(xtest)\n",
    "\n",
    "    # K-Nearest Neighbors within K-Fold loop (Normalized data)\n",
    "    classifier_normalized = GaussianNB()\n",
    "    classifier_normalized.fit(xtrain_normalized, ytrain)\n",
    "    ypred_normalized = classifier_normalized.predict(xtest_normalized)\n",
    "\n",
    "    accuracy_normalized = accuracy_score(ytest, ypred_normalized)\n",
    "    error_ratio_normalized = 1 - accuracy_normalized\n",
    "    error_ratios_normalized.append(error_ratio_normalized)\n",
    "    \n",
    "\n",
    "avg_error_ratio = np.mean(error_ratios)\n",
    "avg_error_ratio_normalized = np.mean(error_ratios_normalized)\n",
    "\n",
    "print(\"Rata-rata Error ratio tanpa menggunakan normalisasi metode Gaussian Naïve Bayes (KFOLD, k=10): {:.10f}\".format(avg_error_ratio))\n",
    "print(\"Rata-rata Error akurasi tanpa menggunakan normalisasi metode Gaussian Naïve Bayes (KFOLD, k=10): {:.10f}\".format(1 - avg_error_ratio))\n",
    "print(\"Hasil error Kfold tanpa menggunakan normalisasi Gaussian Naïve Bayes\\n\", error_ratios)\n",
    "\n",
    "print(\"\\nRata-rata Error ratio untuk metode Gaussian Naïve Bayes (KFOLD, k=10) dengan Normalisasi: {:.10f}\".format(avg_error_ratio_normalized))\n",
    "print(\"Rata-rata Error akurasi untuk metode Gaussian Naïve Bayes (KFOLD, k=10) dengan Normalisasi: {:.10f}\".format(1 - avg_error_ratio_normalized))\n",
    "print(\"Hasil error Kfold untuk K-Nearest Neighbors dengan Normalisasi\\n\", error_ratios_normalized)"
   ]
  },
  {
   "cell_type": "markdown",
   "id": "2dad9a25",
   "metadata": {},
   "source": [
    "# LOO"
   ]
  },
  {
   "cell_type": "code",
   "execution_count": 43,
   "id": "a9f5ad90",
   "metadata": {},
   "outputs": [
    {
     "name": "stdout",
     "output_type": "stream",
     "text": [
      "Rata-rata Error ratio untuk metode Bayesian Naïve Bayes (LOO): 0.0009442871\n",
      "Rata-rata Akurasi untuk metode Bayesian Naïve Bayes (LOO): 0.9990557129\n",
      "\n",
      "Rata-rata Error ratio tanpa normalisasi menggunakan metode Bayesian Naïve Bayes (LOO): 0.0394465418\n",
      "Rata-rata Akurasi tanpa menggunakan normalisasi metode Bayesian Naïve Bayes (LOO): 0.9605534582\n"
     ]
    }
   ],
   "source": [
    "loo = LeaveOneOut()\n",
    "error_ratios_knn = []\n",
    "error_ratios_bayesian = []\n",
    "\n",
    "\n",
    "for train_index, test_index in loo.split(dataset):\n",
    "    xtrain = dataset.iloc[train_index]\n",
    "    xtest = dataset.iloc[test_index]\n",
    "    ytrain = datalabel[train_index]\n",
    "    ytest = datalabel[test_index]\n",
    "\n",
    "    # Gaussian Naïve Bayes within LOO loop\n",
    "    classifier = GaussianNB()\n",
    "    classifier.fit(xtrain, ytrain.ravel())\n",
    "    ypred = classifier.predict(xtest)\n",
    "\n",
    "    accuracy = accuracy_score(ytest, ypred)\n",
    "    error_ratio = 1 - accuracy\n",
    "    error_ratios.append(error_ratio)\n",
    "    \n",
    "    # Min-max scaling for K-Nearest Neighbors within K-Fold loop\n",
    "    scaler = MinMaxScaler()\n",
    "    xtrain_normalized = scaler.fit_transform(xtrain)\n",
    "    xtest_normalized = scaler.transform(xtest)\n",
    "\n",
    "    # K-Nearest Neighbors within K-Fold loop (Normalized data)\n",
    "    classifier_normalized = GaussianNB()\n",
    "    classifier_normalized.fit(xtrain_normalized, ytrain)\n",
    "    ypred_normalized = classifier_normalized.predict(xtest_normalized)\n",
    "\n",
    "    accuracy_normalized = accuracy_score(ytest, ypred_normalized)\n",
    "    error_ratio_normalized = 1 - accuracy_normalized\n",
    "    error_ratios_bayesian.append(error_ratio_normalized)\n",
    "\n",
    "avg_error_ratio_LOO = np.mean(error_ratios)\n",
    "avg_error_ratio_LOO_bayesian = np.mean(error_ratios_bayesian)\n",
    "\n",
    "print(\"Rata-rata Error ratio untuk metode Bayesian Naïve Bayes (LOO): {:.10f}\".format(avg_error_ratio_LOO_bayesian))\n",
    "print(\"Rata-rata Akurasi untuk metode Bayesian Naïve Bayes (LOO): {:.10f}\".format(1 - avg_error_ratio_LOO_bayesian))\n",
    "\n",
    "print(\"\\nRata-rata Error ratio tanpa normalisasi menggunakan metode Bayesian Naïve Bayes (LOO): {:.10f}\".format(avg_error_ratio_LOO))\n",
    "print(\"Rata-rata Akurasi tanpa menggunakan normalisasi metode Bayesian Naïve Bayes (LOO): {:.10f}\".format(1 - avg_error_ratio_LOO))"
   ]
  },
  {
   "cell_type": "code",
   "execution_count": 46,
   "id": "6f819e63",
   "metadata": {},
   "outputs": [
    {
     "name": "stdout",
     "output_type": "stream",
     "text": [
      "Rata-rata Error ratio untuk metode Bayesian Naïve Bayes (LOO): 0.9310670444\n",
      "Rata-rata Akurasi untuk metode Bayesian Naïve Bayes (LOO): 0.0689329556\n",
      "\n",
      "Rata-rata Error ratio tanpa normalisasi menggunakan metode Bayesian Naïve Bayes (LOO): 0.9310670444\n",
      "Rata-rata Akurasi tanpa menggunakan normalisasi metode Bayesian Naïve Bayes (LOO): 0.0689329556\n"
     ]
    }
   ],
   "source": [
    "datalabel = dataset.loc[:, ['Grade']]\n",
    "\n",
    "# Create a Leave-One-Out cross-validator\n",
    "loo = LeaveOneOut()\n",
    "\n",
    "# Initialize a list to store accuracy scores\n",
    "accuracy_scores_normalisasi = []\n",
    "accuracy_scores_tanpanormalisasi = []\n",
    "\n",
    "for train_index, test_index in loo.split(dataset):\n",
    "    xtrain = dataset.iloc[train_index, :-1]  \n",
    "    xtest = dataset.iloc[test_index, :-1]    \n",
    "    ytrain = datalabel.iloc[train_index]      \n",
    "    ytest = datalabel.iloc[test_index]        \n",
    "    \n",
    "    classifier = GaussianNB()\n",
    "    classifier.fit(xtrain, ytrain.values.ravel())\n",
    "    ypred = classifier.predict(xtest)\n",
    "    accuracytn = accuracy_score(ytest, ypred)\n",
    "    accuracy_scores_tanpanormalisasi.append(accuracytn)\n",
    "    \n",
    "    train_data = xtrain\n",
    "    test_data = xtest\n",
    "    newmin = 0\n",
    "    newmax = 1\n",
    "    mindata = train_data.min()\n",
    "    maxdata = train_data.max()\n",
    "    train_data = ((train_data - mindata) * (newmax - newmin) / (maxdata - mindata)) + newmin\n",
    "    test_data = ((test_data - mindata) * (newmax - newmin) / (maxdata - mindata)) + newmin\n",
    "\n",
    "    classifier = GaussianNB()\n",
    "    classifier.fit(train_data, ytrain.values.ravel()) \n",
    "    ypred = classifier.predict(test_data)\n",
    "\n",
    "    accuracyn = accuracy_score(ytest, ypred)\n",
    "    accuracy_scores_normalisasi.append(accuracyn)\n",
    "\n",
    "\n",
    "average_accuracy_tn = sum(accuracy_scores_tn) / len(accuracy_scores_tn)\n",
    "average_accuracy_n = sum(accuracy_scores_n) / len(accuracy_scores_n)\n",
    "\n",
    "print(\"Rata-rata Error ratio untuk metode Bayesian Naïve Bayes (LOO): {:.10f}\".format(average_accuracy_n))\n",
    "print(\"Rata-rata Akurasi untuk metode Bayesian Naïve Bayes (LOO): {:.10f}\".format(1 - average_accuracy_tn))\n",
    "\n",
    "print(\"\\nRata-rata Error ratio tanpa normalisasi menggunakan metode Bayesian Naïve Bayes (LOO): {:.10f}\".format(average_accuracy_tn))\n",
    "print(\"Rata-rata Akurasi tanpa menggunakan normalisasi metode Bayesian Naïve Bayes (LOO): {:.10f}\".format(1 - average_accuracy_tn))"
   ]
  },
  {
   "cell_type": "code",
   "execution_count": null,
   "id": "481758d0",
   "metadata": {},
   "outputs": [],
   "source": []
  }
 ],
 "metadata": {
  "kernelspec": {
   "display_name": "Python 3 (ipykernel)",
   "language": "python",
   "name": "python3"
  },
  "language_info": {
   "codemirror_mode": {
    "name": "ipython",
    "version": 3
   },
   "file_extension": ".py",
   "mimetype": "text/x-python",
   "name": "python",
   "nbconvert_exporter": "python",
   "pygments_lexer": "ipython3",
   "version": "3.10.6"
  }
 },
 "nbformat": 4,
 "nbformat_minor": 5
}
