{
 "cells": [
  {
   "cell_type": "code",
   "execution_count": null,
   "id": "2c5d961b",
   "metadata": {},
   "outputs": [],
   "source": [
    "train_data = np.array(xtrain)[:,1:-1]\n",
    "newmin=0\n",
    "newmax=1\n",
    "mindata = train_data.min()\n",
    "maxdata = train_data.max()\n",
    "train_data = ((train_data-mindata)*(newmax-newmin) /(maxdata-mindata) )+newmin\n",
    "test_data = np.array(xtest)[:,1:-1]\n",
    "test_data = ((test_data-mindata) *(newmax-newmin)/(maxdata-mindata) )+newmin"
   ]
  },
  {
   "cell_type": "code",
   "execution_count": 3,
   "id": "8eff850a",
   "metadata": {},
   "outputs": [],
   "source": [
    "from sklearn.model_selection import train_test_split\n",
    "import pandas as pd \n",
    "import numpy as np\n",
    "\n",
    "dataset = pd.read_csv(\"/Users/farrelmanazilin/Downloads/data/ruspini.csv\")\n",
    "datalabel = dataset.loc[:,['CLASS']]\n",
    "\n",
    "xtrain, xtest, ytrain, ytest = train_test_split(dataset, datalabel, test_size = 0.30, random_state=100)"
   ]
  },
  {
   "cell_type": "code",
   "execution_count": 4,
   "id": "fcd91a40",
   "metadata": {},
   "outputs": [],
   "source": [
    "from sklearn.model_selection import KFold\n",
    "\n",
    "dataset = pd.read_csv('/Users/farrelmanazilin/Downloads/data/ruspini.csv')\n",
    "kf=KFold(n_splits=10,random_state=0, shuffle=True)\n",
    "p=0\n",
    "for train_index, test_index in kf.split(dataset):\n",
    "    p=p+1\n",
    "    xtrain=dataset.loc[train_index]\n",
    "    xtest=dataset.loc[test_index]\n",
    "    ytrain=xtrain.loc[:,[\"CLASS\"]]\n",
    "    ytest=xtest.loc[:,['CLASS']]\n"
   ]
  },
  {
   "cell_type": "code",
   "execution_count": 5,
   "id": "80a93638",
   "metadata": {},
   "outputs": [],
   "source": [
    "from sklearn.model_selection import LeaveOneOut\n",
    "dataset = pd.read_csv('/Users/farrelmanazilin/Downloads/data/ruspini.csv')\n",
    "loo=LeaveOneOut()\n",
    "n=loo.get_n_splits(dataset)\n",
    "for xtrain, xtest in loo.split(dataset): \n",
    "    xtrain = dataset.filter(items=xtrain, axis=0) \n",
    "    xtest = dataset.filter(items=xtest, axis=0) \n",
    "ytrain= xtrain.loc[:, ['CLASS']] \n",
    "ytest= xtest.loc[:, ['CLASS']]"
   ]
  },
  {
   "cell_type": "code",
   "execution_count": 7,
   "id": "2909a3d3",
   "metadata": {},
   "outputs": [
    {
     "ename": "NameError",
     "evalue": "name 'kNN' is not defined",
     "output_type": "error",
     "traceback": [
      "\u001b[0;31m---------------------------------------------------------------------------\u001b[0m",
      "\u001b[0;31mNameError\u001b[0m                                 Traceback (most recent call last)",
      "Cell \u001b[0;32mIn[7], line 1\u001b[0m\n\u001b[0;32m----> 1\u001b[0m precision_ratio\u001b[38;5;241m=\u001b[39m \u001b[43mkNN\u001b[49m\u001b[38;5;241m.\u001b[39mscore(test_data, test_label)\n\u001b[1;32m      2\u001b[0m error_ratio \u001b[38;5;241m=\u001b[39m \u001b[38;5;241m1\u001b[39m\u001b[38;5;241m-\u001b[39m precision_ratio\n\u001b[1;32m      3\u001b[0m \u001b[38;5;28mprint\u001b[39m(error_ratio)\n",
      "\u001b[0;31mNameError\u001b[0m: name 'kNN' is not defined"
     ]
    }
   ],
   "source": [
    "precision_ratio= kNN.score(test_data, test_label)\n",
    "error_ratio = 1- precision_ratio\n",
    "print(error_ratio)"
   ]
  },
  {
   "cell_type": "code",
   "execution_count": 16,
   "id": "780cd77c",
   "metadata": {},
   "outputs": [
    {
     "data": {
      "text/html": [
       "<div>\n",
       "<style scoped>\n",
       "    .dataframe tbody tr th:only-of-type {\n",
       "        vertical-align: middle;\n",
       "    }\n",
       "\n",
       "    .dataframe tbody tr th {\n",
       "        vertical-align: top;\n",
       "    }\n",
       "\n",
       "    .dataframe thead th {\n",
       "        text-align: right;\n",
       "    }\n",
       "</style>\n",
       "<table border=\"1\" class=\"dataframe\">\n",
       "  <thead>\n",
       "    <tr style=\"text-align: right;\">\n",
       "      <th></th>\n",
       "      <th>pH</th>\n",
       "      <th>Temprature</th>\n",
       "      <th>Taste</th>\n",
       "      <th>Odor</th>\n",
       "      <th>Fat</th>\n",
       "      <th>Turbidity</th>\n",
       "      <th>Colour</th>\n",
       "      <th>Grade</th>\n",
       "    </tr>\n",
       "  </thead>\n",
       "  <tbody>\n",
       "    <tr>\n",
       "      <th>0</th>\n",
       "      <td>6.6</td>\n",
       "      <td>35</td>\n",
       "      <td>1</td>\n",
       "      <td>0</td>\n",
       "      <td>1</td>\n",
       "      <td>0</td>\n",
       "      <td>254</td>\n",
       "      <td>high</td>\n",
       "    </tr>\n",
       "    <tr>\n",
       "      <th>1</th>\n",
       "      <td>6.6</td>\n",
       "      <td>36</td>\n",
       "      <td>0</td>\n",
       "      <td>1</td>\n",
       "      <td>0</td>\n",
       "      <td>1</td>\n",
       "      <td>253</td>\n",
       "      <td>high</td>\n",
       "    </tr>\n",
       "    <tr>\n",
       "      <th>2</th>\n",
       "      <td>8.5</td>\n",
       "      <td>70</td>\n",
       "      <td>1</td>\n",
       "      <td>1</td>\n",
       "      <td>1</td>\n",
       "      <td>1</td>\n",
       "      <td>246</td>\n",
       "      <td>low</td>\n",
       "    </tr>\n",
       "    <tr>\n",
       "      <th>3</th>\n",
       "      <td>9.5</td>\n",
       "      <td>34</td>\n",
       "      <td>1</td>\n",
       "      <td>1</td>\n",
       "      <td>0</td>\n",
       "      <td>1</td>\n",
       "      <td>255</td>\n",
       "      <td>low</td>\n",
       "    </tr>\n",
       "    <tr>\n",
       "      <th>4</th>\n",
       "      <td>6.6</td>\n",
       "      <td>37</td>\n",
       "      <td>0</td>\n",
       "      <td>0</td>\n",
       "      <td>0</td>\n",
       "      <td>0</td>\n",
       "      <td>255</td>\n",
       "      <td>medium</td>\n",
       "    </tr>\n",
       "    <tr>\n",
       "      <th>...</th>\n",
       "      <td>...</td>\n",
       "      <td>...</td>\n",
       "      <td>...</td>\n",
       "      <td>...</td>\n",
       "      <td>...</td>\n",
       "      <td>...</td>\n",
       "      <td>...</td>\n",
       "      <td>...</td>\n",
       "    </tr>\n",
       "    <tr>\n",
       "      <th>1054</th>\n",
       "      <td>6.7</td>\n",
       "      <td>45</td>\n",
       "      <td>1</td>\n",
       "      <td>1</td>\n",
       "      <td>0</td>\n",
       "      <td>0</td>\n",
       "      <td>247</td>\n",
       "      <td>medium</td>\n",
       "    </tr>\n",
       "    <tr>\n",
       "      <th>1055</th>\n",
       "      <td>6.7</td>\n",
       "      <td>38</td>\n",
       "      <td>1</td>\n",
       "      <td>0</td>\n",
       "      <td>1</td>\n",
       "      <td>0</td>\n",
       "      <td>255</td>\n",
       "      <td>high</td>\n",
       "    </tr>\n",
       "    <tr>\n",
       "      <th>1056</th>\n",
       "      <td>3.0</td>\n",
       "      <td>40</td>\n",
       "      <td>1</td>\n",
       "      <td>1</td>\n",
       "      <td>1</td>\n",
       "      <td>1</td>\n",
       "      <td>255</td>\n",
       "      <td>low</td>\n",
       "    </tr>\n",
       "    <tr>\n",
       "      <th>1057</th>\n",
       "      <td>6.8</td>\n",
       "      <td>43</td>\n",
       "      <td>1</td>\n",
       "      <td>0</td>\n",
       "      <td>1</td>\n",
       "      <td>0</td>\n",
       "      <td>250</td>\n",
       "      <td>high</td>\n",
       "    </tr>\n",
       "    <tr>\n",
       "      <th>1058</th>\n",
       "      <td>8.6</td>\n",
       "      <td>55</td>\n",
       "      <td>0</td>\n",
       "      <td>1</td>\n",
       "      <td>1</td>\n",
       "      <td>1</td>\n",
       "      <td>255</td>\n",
       "      <td>low</td>\n",
       "    </tr>\n",
       "  </tbody>\n",
       "</table>\n",
       "<p>1059 rows × 8 columns</p>\n",
       "</div>"
      ],
      "text/plain": [
       "       pH  Temprature  Taste  Odor  Fat   Turbidity  Colour   Grade\n",
       "0     6.6          35      1     0     1          0     254    high\n",
       "1     6.6          36      0     1     0          1     253    high\n",
       "2     8.5          70      1     1     1          1     246     low\n",
       "3     9.5          34      1     1     0          1     255     low\n",
       "4     6.6          37      0     0     0          0     255  medium\n",
       "...   ...         ...    ...   ...   ...        ...     ...     ...\n",
       "1054  6.7          45      1     1     0          0     247  medium\n",
       "1055  6.7          38      1     0     1          0     255    high\n",
       "1056  3.0          40      1     1     1          1     255     low\n",
       "1057  6.8          43      1     0     1          0     250    high\n",
       "1058  8.6          55      0     1     1          1     255     low\n",
       "\n",
       "[1059 rows x 8 columns]"
      ]
     },
     "execution_count": 16,
     "metadata": {},
     "output_type": "execute_result"
    }
   ],
   "source": [
    "dataset = pd.read_csv('/Users/farrelmanazilin/Downloads/data/milk.csv')\n",
    "dataset"
   ]
  },
  {
   "cell_type": "code",
   "execution_count": 23,
   "id": "6e53ab5c",
   "metadata": {},
   "outputs": [],
   "source": [
    "from sklearn.model_selection import train_test_split\n",
    "import pandas as pd \n",
    "import numpy as np\n",
    "from sklearn.model_selection import LeaveOneOut\n",
    "from sklearn.neighbors import KNeighborsClassifier"
   ]
  },
  {
   "cell_type": "code",
   "execution_count": 27,
   "id": "e4bc0261",
   "metadata": {},
   "outputs": [
    {
     "data": {
      "text/plain": [
       "array(['high', 'high', 'low', ..., 'low', 'high', 'low'], dtype=object)"
      ]
     },
     "execution_count": 27,
     "metadata": {},
     "output_type": "execute_result"
    }
   ],
   "source": [
    "dataset = pd.read_csv('/Users/farrelmanazilin/Downloads/data/milk.csv')\n",
    "datalabel = dataset.loc[:,['Grade']]\n",
    "\n",
    "xtrain, xtest, ytrain, ytest = train_test_split(dataset, datalabel, test_size = 0.30, random_state=100)\n",
    "test_label = np.array(dataset)[:, -1]\n",
    "test_label"
   ]
  },
  {
   "cell_type": "code",
   "execution_count": 47,
   "id": "174d58dd",
   "metadata": {},
   "outputs": [
    {
     "ename": "ValueError",
     "evalue": "Found input variables with inconsistent numbers of samples: [106, 318]",
     "output_type": "error",
     "traceback": [
      "\u001b[0;31m---------------------------------------------------------------------------\u001b[0m",
      "\u001b[0;31mValueError\u001b[0m                                Traceback (most recent call last)",
      "Cell \u001b[0;32mIn[47], line 21\u001b[0m\n\u001b[1;32m     19\u001b[0m test_data \u001b[38;5;241m=\u001b[39m ((test_data\u001b[38;5;241m-\u001b[39mmindata) \u001b[38;5;241m*\u001b[39m(newmax\u001b[38;5;241m-\u001b[39mnewmin)\u001b[38;5;241m/\u001b[39m(maxdata\u001b[38;5;241m-\u001b[39mmindata) )\u001b[38;5;241m+\u001b[39mnewmin\n\u001b[1;32m     20\u001b[0m kNN \u001b[38;5;241m=\u001b[39mKNeighborsClassifier(n_neighbors\u001b[38;5;241m=\u001b[39m\u001b[38;5;241m5\u001b[39m, weights\u001b[38;5;241m=\u001b[39m\u001b[38;5;124m'\u001b[39m\u001b[38;5;124mdistance\u001b[39m\u001b[38;5;124m'\u001b[39m)\t\t\t\t\t\n\u001b[0;32m---> 21\u001b[0m \u001b[43mkNN\u001b[49m\u001b[38;5;241;43m.\u001b[39;49m\u001b[43mfit\u001b[49m\u001b[43m(\u001b[49m\u001b[43mtest_data\u001b[49m\u001b[43m,\u001b[49m\u001b[43m \u001b[49m\u001b[43mtest_label\u001b[49m\u001b[43m)\u001b[49m\n\u001b[1;32m     22\u001b[0m hasil\u001b[38;5;241m=\u001b[39m kNN\u001b[38;5;241m.\u001b[39mpredict(test_data)\t\n\u001b[1;32m     23\u001b[0m precision_ratio\u001b[38;5;241m=\u001b[39m kNN\u001b[38;5;241m.\u001b[39mscore(test_data, ytest)\n",
      "File \u001b[0;32m~/tomatopotato/lib/python3.10/site-packages/sklearn/neighbors/_classification.py:215\u001b[0m, in \u001b[0;36mKNeighborsClassifier.fit\u001b[0;34m(self, X, y)\u001b[0m\n\u001b[1;32m    196\u001b[0m \u001b[38;5;250m\u001b[39m\u001b[38;5;124;03m\"\"\"Fit the k-nearest neighbors classifier from the training dataset.\u001b[39;00m\n\u001b[1;32m    197\u001b[0m \n\u001b[1;32m    198\u001b[0m \u001b[38;5;124;03mParameters\u001b[39;00m\n\u001b[0;32m   (...)\u001b[0m\n\u001b[1;32m    211\u001b[0m \u001b[38;5;124;03m    The fitted k-nearest neighbors classifier.\u001b[39;00m\n\u001b[1;32m    212\u001b[0m \u001b[38;5;124;03m\"\"\"\u001b[39;00m\n\u001b[1;32m    213\u001b[0m \u001b[38;5;28mself\u001b[39m\u001b[38;5;241m.\u001b[39m_validate_params()\n\u001b[0;32m--> 215\u001b[0m \u001b[38;5;28;01mreturn\u001b[39;00m \u001b[38;5;28;43mself\u001b[39;49m\u001b[38;5;241;43m.\u001b[39;49m\u001b[43m_fit\u001b[49m\u001b[43m(\u001b[49m\u001b[43mX\u001b[49m\u001b[43m,\u001b[49m\u001b[43m \u001b[49m\u001b[43my\u001b[49m\u001b[43m)\u001b[49m\n",
      "File \u001b[0;32m~/tomatopotato/lib/python3.10/site-packages/sklearn/neighbors/_base.py:454\u001b[0m, in \u001b[0;36mNeighborsBase._fit\u001b[0;34m(self, X, y)\u001b[0m\n\u001b[1;32m    452\u001b[0m \u001b[38;5;28;01mif\u001b[39;00m \u001b[38;5;28mself\u001b[39m\u001b[38;5;241m.\u001b[39m_get_tags()[\u001b[38;5;124m\"\u001b[39m\u001b[38;5;124mrequires_y\u001b[39m\u001b[38;5;124m\"\u001b[39m]:\n\u001b[1;32m    453\u001b[0m     \u001b[38;5;28;01mif\u001b[39;00m \u001b[38;5;129;01mnot\u001b[39;00m \u001b[38;5;28misinstance\u001b[39m(X, (KDTree, BallTree, NeighborsBase)):\n\u001b[0;32m--> 454\u001b[0m         X, y \u001b[38;5;241m=\u001b[39m \u001b[38;5;28;43mself\u001b[39;49m\u001b[38;5;241;43m.\u001b[39;49m\u001b[43m_validate_data\u001b[49m\u001b[43m(\u001b[49m\n\u001b[1;32m    455\u001b[0m \u001b[43m            \u001b[49m\u001b[43mX\u001b[49m\u001b[43m,\u001b[49m\u001b[43m \u001b[49m\u001b[43my\u001b[49m\u001b[43m,\u001b[49m\u001b[43m \u001b[49m\u001b[43maccept_sparse\u001b[49m\u001b[38;5;241;43m=\u001b[39;49m\u001b[38;5;124;43m\"\u001b[39;49m\u001b[38;5;124;43mcsr\u001b[39;49m\u001b[38;5;124;43m\"\u001b[39;49m\u001b[43m,\u001b[49m\u001b[43m \u001b[49m\u001b[43mmulti_output\u001b[49m\u001b[38;5;241;43m=\u001b[39;49m\u001b[38;5;28;43;01mTrue\u001b[39;49;00m\u001b[43m,\u001b[49m\u001b[43m \u001b[49m\u001b[43morder\u001b[49m\u001b[38;5;241;43m=\u001b[39;49m\u001b[38;5;124;43m\"\u001b[39;49m\u001b[38;5;124;43mC\u001b[39;49m\u001b[38;5;124;43m\"\u001b[39;49m\n\u001b[1;32m    456\u001b[0m \u001b[43m        \u001b[49m\u001b[43m)\u001b[49m\n\u001b[1;32m    458\u001b[0m     \u001b[38;5;28;01mif\u001b[39;00m is_classifier(\u001b[38;5;28mself\u001b[39m):\n\u001b[1;32m    459\u001b[0m         \u001b[38;5;66;03m# Classification targets require a specific format\u001b[39;00m\n\u001b[1;32m    460\u001b[0m         \u001b[38;5;28;01mif\u001b[39;00m y\u001b[38;5;241m.\u001b[39mndim \u001b[38;5;241m==\u001b[39m \u001b[38;5;241m1\u001b[39m \u001b[38;5;129;01mor\u001b[39;00m y\u001b[38;5;241m.\u001b[39mndim \u001b[38;5;241m==\u001b[39m \u001b[38;5;241m2\u001b[39m \u001b[38;5;129;01mand\u001b[39;00m y\u001b[38;5;241m.\u001b[39mshape[\u001b[38;5;241m1\u001b[39m] \u001b[38;5;241m==\u001b[39m \u001b[38;5;241m1\u001b[39m:\n",
      "File \u001b[0;32m~/tomatopotato/lib/python3.10/site-packages/sklearn/base.py:584\u001b[0m, in \u001b[0;36mBaseEstimator._validate_data\u001b[0;34m(self, X, y, reset, validate_separately, **check_params)\u001b[0m\n\u001b[1;32m    582\u001b[0m         y \u001b[38;5;241m=\u001b[39m check_array(y, input_name\u001b[38;5;241m=\u001b[39m\u001b[38;5;124m\"\u001b[39m\u001b[38;5;124my\u001b[39m\u001b[38;5;124m\"\u001b[39m, \u001b[38;5;241m*\u001b[39m\u001b[38;5;241m*\u001b[39mcheck_y_params)\n\u001b[1;32m    583\u001b[0m     \u001b[38;5;28;01melse\u001b[39;00m:\n\u001b[0;32m--> 584\u001b[0m         X, y \u001b[38;5;241m=\u001b[39m \u001b[43mcheck_X_y\u001b[49m\u001b[43m(\u001b[49m\u001b[43mX\u001b[49m\u001b[43m,\u001b[49m\u001b[43m \u001b[49m\u001b[43my\u001b[49m\u001b[43m,\u001b[49m\u001b[43m \u001b[49m\u001b[38;5;241;43m*\u001b[39;49m\u001b[38;5;241;43m*\u001b[39;49m\u001b[43mcheck_params\u001b[49m\u001b[43m)\u001b[49m\n\u001b[1;32m    585\u001b[0m     out \u001b[38;5;241m=\u001b[39m X, y\n\u001b[1;32m    587\u001b[0m \u001b[38;5;28;01mif\u001b[39;00m \u001b[38;5;129;01mnot\u001b[39;00m no_val_X \u001b[38;5;129;01mand\u001b[39;00m check_params\u001b[38;5;241m.\u001b[39mget(\u001b[38;5;124m\"\u001b[39m\u001b[38;5;124mensure_2d\u001b[39m\u001b[38;5;124m\"\u001b[39m, \u001b[38;5;28;01mTrue\u001b[39;00m):\n",
      "File \u001b[0;32m~/tomatopotato/lib/python3.10/site-packages/sklearn/utils/validation.py:1124\u001b[0m, in \u001b[0;36mcheck_X_y\u001b[0;34m(X, y, accept_sparse, accept_large_sparse, dtype, order, copy, force_all_finite, ensure_2d, allow_nd, multi_output, ensure_min_samples, ensure_min_features, y_numeric, estimator)\u001b[0m\n\u001b[1;32m   1106\u001b[0m X \u001b[38;5;241m=\u001b[39m check_array(\n\u001b[1;32m   1107\u001b[0m     X,\n\u001b[1;32m   1108\u001b[0m     accept_sparse\u001b[38;5;241m=\u001b[39maccept_sparse,\n\u001b[0;32m   (...)\u001b[0m\n\u001b[1;32m   1119\u001b[0m     input_name\u001b[38;5;241m=\u001b[39m\u001b[38;5;124m\"\u001b[39m\u001b[38;5;124mX\u001b[39m\u001b[38;5;124m\"\u001b[39m,\n\u001b[1;32m   1120\u001b[0m )\n\u001b[1;32m   1122\u001b[0m y \u001b[38;5;241m=\u001b[39m _check_y(y, multi_output\u001b[38;5;241m=\u001b[39mmulti_output, y_numeric\u001b[38;5;241m=\u001b[39my_numeric, estimator\u001b[38;5;241m=\u001b[39mestimator)\n\u001b[0;32m-> 1124\u001b[0m \u001b[43mcheck_consistent_length\u001b[49m\u001b[43m(\u001b[49m\u001b[43mX\u001b[49m\u001b[43m,\u001b[49m\u001b[43m \u001b[49m\u001b[43my\u001b[49m\u001b[43m)\u001b[49m\n\u001b[1;32m   1126\u001b[0m \u001b[38;5;28;01mreturn\u001b[39;00m X, y\n",
      "File \u001b[0;32m~/tomatopotato/lib/python3.10/site-packages/sklearn/utils/validation.py:397\u001b[0m, in \u001b[0;36mcheck_consistent_length\u001b[0;34m(*arrays)\u001b[0m\n\u001b[1;32m    395\u001b[0m uniques \u001b[38;5;241m=\u001b[39m np\u001b[38;5;241m.\u001b[39munique(lengths)\n\u001b[1;32m    396\u001b[0m \u001b[38;5;28;01mif\u001b[39;00m \u001b[38;5;28mlen\u001b[39m(uniques) \u001b[38;5;241m>\u001b[39m \u001b[38;5;241m1\u001b[39m:\n\u001b[0;32m--> 397\u001b[0m     \u001b[38;5;28;01mraise\u001b[39;00m \u001b[38;5;167;01mValueError\u001b[39;00m(\n\u001b[1;32m    398\u001b[0m         \u001b[38;5;124m\"\u001b[39m\u001b[38;5;124mFound input variables with inconsistent numbers of samples: \u001b[39m\u001b[38;5;132;01m%r\u001b[39;00m\u001b[38;5;124m\"\u001b[39m\n\u001b[1;32m    399\u001b[0m         \u001b[38;5;241m%\u001b[39m [\u001b[38;5;28mint\u001b[39m(l) \u001b[38;5;28;01mfor\u001b[39;00m l \u001b[38;5;129;01min\u001b[39;00m lengths]\n\u001b[1;32m    400\u001b[0m     )\n",
      "\u001b[0;31mValueError\u001b[0m: Found input variables with inconsistent numbers of samples: [106, 318]"
     ]
    }
   ],
   "source": [
    "from sklearn.model_selection import KFold\n",
    "\n",
    "dataset = pd.read_csv('/Users/farrelmanazilin/Downloads/data/milk.csv')\n",
    "kf=KFold(n_splits=10,random_state=0, shuffle=True)\n",
    "p=0\n",
    "for train_index, test_index in kf.split(dataset):\n",
    "    p=p+1\n",
    "    xtrain=dataset.loc[train_index]\n",
    "    xtest=dataset.loc[test_index]\n",
    "    ytrain=xtrain.loc[:,[\"Grade\"]]\n",
    "    ytest=xtest.loc[:,['Grade']]\n",
    "    train_data = np.array(xtrain)[:,1:-1]\n",
    "    test_data = np.array(xtest)[:,1:-1]\n",
    "    newmin=0\n",
    "    newmax=1\n",
    "    mindata = train_data.min()\n",
    "    maxdata = train_data.max()\n",
    "    train_data = ((train_data-mindata)*(newmax-newmin) /(maxdata-mindata) )+newmin\n",
    "    test_data = ((test_data-mindata) *(newmax-newmin)/(maxdata-mindata) )+newmin\n",
    "    kNN =KNeighborsClassifier(n_neighbors=5, weights='distance')\t\t\t\t\t\n",
    "    kNN.fit(test_data, test_label)\n",
    "    hasil= kNN.predict(test_data)\t\n",
    "    precision_ratio= kNN.score(test_data, ytest)\n",
    "    error_ratio = 1- precision_ratio\n",
    "    print(error_ratio)"
   ]
  },
  {
   "cell_type": "code",
   "execution_count": 37,
   "id": "2f5627cd",
   "metadata": {},
   "outputs": [
    {
     "ename": "ValueError",
     "evalue": "Found input variables with inconsistent numbers of samples: [106, 1059]",
     "output_type": "error",
     "traceback": [
      "\u001b[0;31m---------------------------------------------------------------------------\u001b[0m",
      "\u001b[0;31mValueError\u001b[0m                                Traceback (most recent call last)",
      "Cell \u001b[0;32mIn[37], line 2\u001b[0m\n\u001b[1;32m      1\u001b[0m kNN \u001b[38;5;241m=\u001b[39mKNeighborsClassifier(n_neighbors\u001b[38;5;241m=\u001b[39m\u001b[38;5;241m5\u001b[39m, weights\u001b[38;5;241m=\u001b[39m\u001b[38;5;124m'\u001b[39m\u001b[38;5;124mdistance\u001b[39m\u001b[38;5;124m'\u001b[39m)\t\t\t\t\t\n\u001b[0;32m----> 2\u001b[0m \u001b[43mkNN\u001b[49m\u001b[38;5;241;43m.\u001b[39;49m\u001b[43mfit\u001b[49m\u001b[43m(\u001b[49m\u001b[43mtest_data\u001b[49m\u001b[43m,\u001b[49m\u001b[43m \u001b[49m\u001b[43mtest_label\u001b[49m\u001b[43m)\u001b[49m\n\u001b[1;32m      3\u001b[0m hasil\u001b[38;5;241m=\u001b[39m kNN\u001b[38;5;241m.\u001b[39mpredict(test_data)\t\n\u001b[1;32m      4\u001b[0m \u001b[38;5;28mprint\u001b[39m(\u001b[38;5;124m\"\u001b[39m\u001b[38;5;124mHasil Data Test\u001b[39m\u001b[38;5;124m\"\u001b[39m,test_data)\n",
      "File \u001b[0;32m~/tomatopotato/lib/python3.10/site-packages/sklearn/neighbors/_classification.py:215\u001b[0m, in \u001b[0;36mKNeighborsClassifier.fit\u001b[0;34m(self, X, y)\u001b[0m\n\u001b[1;32m    196\u001b[0m \u001b[38;5;250m\u001b[39m\u001b[38;5;124;03m\"\"\"Fit the k-nearest neighbors classifier from the training dataset.\u001b[39;00m\n\u001b[1;32m    197\u001b[0m \n\u001b[1;32m    198\u001b[0m \u001b[38;5;124;03mParameters\u001b[39;00m\n\u001b[0;32m   (...)\u001b[0m\n\u001b[1;32m    211\u001b[0m \u001b[38;5;124;03m    The fitted k-nearest neighbors classifier.\u001b[39;00m\n\u001b[1;32m    212\u001b[0m \u001b[38;5;124;03m\"\"\"\u001b[39;00m\n\u001b[1;32m    213\u001b[0m \u001b[38;5;28mself\u001b[39m\u001b[38;5;241m.\u001b[39m_validate_params()\n\u001b[0;32m--> 215\u001b[0m \u001b[38;5;28;01mreturn\u001b[39;00m \u001b[38;5;28;43mself\u001b[39;49m\u001b[38;5;241;43m.\u001b[39;49m\u001b[43m_fit\u001b[49m\u001b[43m(\u001b[49m\u001b[43mX\u001b[49m\u001b[43m,\u001b[49m\u001b[43m \u001b[49m\u001b[43my\u001b[49m\u001b[43m)\u001b[49m\n",
      "File \u001b[0;32m~/tomatopotato/lib/python3.10/site-packages/sklearn/neighbors/_base.py:454\u001b[0m, in \u001b[0;36mNeighborsBase._fit\u001b[0;34m(self, X, y)\u001b[0m\n\u001b[1;32m    452\u001b[0m \u001b[38;5;28;01mif\u001b[39;00m \u001b[38;5;28mself\u001b[39m\u001b[38;5;241m.\u001b[39m_get_tags()[\u001b[38;5;124m\"\u001b[39m\u001b[38;5;124mrequires_y\u001b[39m\u001b[38;5;124m\"\u001b[39m]:\n\u001b[1;32m    453\u001b[0m     \u001b[38;5;28;01mif\u001b[39;00m \u001b[38;5;129;01mnot\u001b[39;00m \u001b[38;5;28misinstance\u001b[39m(X, (KDTree, BallTree, NeighborsBase)):\n\u001b[0;32m--> 454\u001b[0m         X, y \u001b[38;5;241m=\u001b[39m \u001b[38;5;28;43mself\u001b[39;49m\u001b[38;5;241;43m.\u001b[39;49m\u001b[43m_validate_data\u001b[49m\u001b[43m(\u001b[49m\n\u001b[1;32m    455\u001b[0m \u001b[43m            \u001b[49m\u001b[43mX\u001b[49m\u001b[43m,\u001b[49m\u001b[43m \u001b[49m\u001b[43my\u001b[49m\u001b[43m,\u001b[49m\u001b[43m \u001b[49m\u001b[43maccept_sparse\u001b[49m\u001b[38;5;241;43m=\u001b[39;49m\u001b[38;5;124;43m\"\u001b[39;49m\u001b[38;5;124;43mcsr\u001b[39;49m\u001b[38;5;124;43m\"\u001b[39;49m\u001b[43m,\u001b[49m\u001b[43m \u001b[49m\u001b[43mmulti_output\u001b[49m\u001b[38;5;241;43m=\u001b[39;49m\u001b[38;5;28;43;01mTrue\u001b[39;49;00m\u001b[43m,\u001b[49m\u001b[43m \u001b[49m\u001b[43morder\u001b[49m\u001b[38;5;241;43m=\u001b[39;49m\u001b[38;5;124;43m\"\u001b[39;49m\u001b[38;5;124;43mC\u001b[39;49m\u001b[38;5;124;43m\"\u001b[39;49m\n\u001b[1;32m    456\u001b[0m \u001b[43m        \u001b[49m\u001b[43m)\u001b[49m\n\u001b[1;32m    458\u001b[0m     \u001b[38;5;28;01mif\u001b[39;00m is_classifier(\u001b[38;5;28mself\u001b[39m):\n\u001b[1;32m    459\u001b[0m         \u001b[38;5;66;03m# Classification targets require a specific format\u001b[39;00m\n\u001b[1;32m    460\u001b[0m         \u001b[38;5;28;01mif\u001b[39;00m y\u001b[38;5;241m.\u001b[39mndim \u001b[38;5;241m==\u001b[39m \u001b[38;5;241m1\u001b[39m \u001b[38;5;129;01mor\u001b[39;00m y\u001b[38;5;241m.\u001b[39mndim \u001b[38;5;241m==\u001b[39m \u001b[38;5;241m2\u001b[39m \u001b[38;5;129;01mand\u001b[39;00m y\u001b[38;5;241m.\u001b[39mshape[\u001b[38;5;241m1\u001b[39m] \u001b[38;5;241m==\u001b[39m \u001b[38;5;241m1\u001b[39m:\n",
      "File \u001b[0;32m~/tomatopotato/lib/python3.10/site-packages/sklearn/base.py:584\u001b[0m, in \u001b[0;36mBaseEstimator._validate_data\u001b[0;34m(self, X, y, reset, validate_separately, **check_params)\u001b[0m\n\u001b[1;32m    582\u001b[0m         y \u001b[38;5;241m=\u001b[39m check_array(y, input_name\u001b[38;5;241m=\u001b[39m\u001b[38;5;124m\"\u001b[39m\u001b[38;5;124my\u001b[39m\u001b[38;5;124m\"\u001b[39m, \u001b[38;5;241m*\u001b[39m\u001b[38;5;241m*\u001b[39mcheck_y_params)\n\u001b[1;32m    583\u001b[0m     \u001b[38;5;28;01melse\u001b[39;00m:\n\u001b[0;32m--> 584\u001b[0m         X, y \u001b[38;5;241m=\u001b[39m \u001b[43mcheck_X_y\u001b[49m\u001b[43m(\u001b[49m\u001b[43mX\u001b[49m\u001b[43m,\u001b[49m\u001b[43m \u001b[49m\u001b[43my\u001b[49m\u001b[43m,\u001b[49m\u001b[43m \u001b[49m\u001b[38;5;241;43m*\u001b[39;49m\u001b[38;5;241;43m*\u001b[39;49m\u001b[43mcheck_params\u001b[49m\u001b[43m)\u001b[49m\n\u001b[1;32m    585\u001b[0m     out \u001b[38;5;241m=\u001b[39m X, y\n\u001b[1;32m    587\u001b[0m \u001b[38;5;28;01mif\u001b[39;00m \u001b[38;5;129;01mnot\u001b[39;00m no_val_X \u001b[38;5;129;01mand\u001b[39;00m check_params\u001b[38;5;241m.\u001b[39mget(\u001b[38;5;124m\"\u001b[39m\u001b[38;5;124mensure_2d\u001b[39m\u001b[38;5;124m\"\u001b[39m, \u001b[38;5;28;01mTrue\u001b[39;00m):\n",
      "File \u001b[0;32m~/tomatopotato/lib/python3.10/site-packages/sklearn/utils/validation.py:1124\u001b[0m, in \u001b[0;36mcheck_X_y\u001b[0;34m(X, y, accept_sparse, accept_large_sparse, dtype, order, copy, force_all_finite, ensure_2d, allow_nd, multi_output, ensure_min_samples, ensure_min_features, y_numeric, estimator)\u001b[0m\n\u001b[1;32m   1106\u001b[0m X \u001b[38;5;241m=\u001b[39m check_array(\n\u001b[1;32m   1107\u001b[0m     X,\n\u001b[1;32m   1108\u001b[0m     accept_sparse\u001b[38;5;241m=\u001b[39maccept_sparse,\n\u001b[0;32m   (...)\u001b[0m\n\u001b[1;32m   1119\u001b[0m     input_name\u001b[38;5;241m=\u001b[39m\u001b[38;5;124m\"\u001b[39m\u001b[38;5;124mX\u001b[39m\u001b[38;5;124m\"\u001b[39m,\n\u001b[1;32m   1120\u001b[0m )\n\u001b[1;32m   1122\u001b[0m y \u001b[38;5;241m=\u001b[39m _check_y(y, multi_output\u001b[38;5;241m=\u001b[39mmulti_output, y_numeric\u001b[38;5;241m=\u001b[39my_numeric, estimator\u001b[38;5;241m=\u001b[39mestimator)\n\u001b[0;32m-> 1124\u001b[0m \u001b[43mcheck_consistent_length\u001b[49m\u001b[43m(\u001b[49m\u001b[43mX\u001b[49m\u001b[43m,\u001b[49m\u001b[43m \u001b[49m\u001b[43my\u001b[49m\u001b[43m)\u001b[49m\n\u001b[1;32m   1126\u001b[0m \u001b[38;5;28;01mreturn\u001b[39;00m X, y\n",
      "File \u001b[0;32m~/tomatopotato/lib/python3.10/site-packages/sklearn/utils/validation.py:397\u001b[0m, in \u001b[0;36mcheck_consistent_length\u001b[0;34m(*arrays)\u001b[0m\n\u001b[1;32m    395\u001b[0m uniques \u001b[38;5;241m=\u001b[39m np\u001b[38;5;241m.\u001b[39munique(lengths)\n\u001b[1;32m    396\u001b[0m \u001b[38;5;28;01mif\u001b[39;00m \u001b[38;5;28mlen\u001b[39m(uniques) \u001b[38;5;241m>\u001b[39m \u001b[38;5;241m1\u001b[39m:\n\u001b[0;32m--> 397\u001b[0m     \u001b[38;5;28;01mraise\u001b[39;00m \u001b[38;5;167;01mValueError\u001b[39;00m(\n\u001b[1;32m    398\u001b[0m         \u001b[38;5;124m\"\u001b[39m\u001b[38;5;124mFound input variables with inconsistent numbers of samples: \u001b[39m\u001b[38;5;132;01m%r\u001b[39;00m\u001b[38;5;124m\"\u001b[39m\n\u001b[1;32m    399\u001b[0m         \u001b[38;5;241m%\u001b[39m [\u001b[38;5;28mint\u001b[39m(l) \u001b[38;5;28;01mfor\u001b[39;00m l \u001b[38;5;129;01min\u001b[39;00m lengths]\n\u001b[1;32m    400\u001b[0m     )\n",
      "\u001b[0;31mValueError\u001b[0m: Found input variables with inconsistent numbers of samples: [106, 1059]"
     ]
    }
   ],
   "source": [
    "kNN =KNeighborsClassifier(n_neighbors=5, weights='distance')\t\t\t\t\t\n",
    "kNN.fit(test_data, test_label)\n",
    "hasil= kNN.predict(test_data)\t\n",
    "print(\"Hasil Data Test\",test_data)\n",
    "print(\"Hasil dari k-NN : \", hasil)\t"
   ]
  },
  {
   "cell_type": "code",
   "execution_count": 33,
   "id": "595ac1a1",
   "metadata": {},
   "outputs": [
    {
     "ename": "IndexError",
     "evalue": ".iloc requires numeric indexers, got ['Grade']",
     "output_type": "error",
     "traceback": [
      "\u001b[0;31m---------------------------------------------------------------------------\u001b[0m",
      "\u001b[0;31mIndexError\u001b[0m                                Traceback (most recent call last)",
      "Cell \u001b[0;32mIn[33], line 7\u001b[0m\n\u001b[1;32m      4\u001b[0m \u001b[38;5;28;01mfrom\u001b[39;00m \u001b[38;5;21;01msklearn\u001b[39;00m\u001b[38;5;21;01m.\u001b[39;00m\u001b[38;5;21;01mneighbors\u001b[39;00m \u001b[38;5;28;01mimport\u001b[39;00m KNeighborsClassifier\n\u001b[1;32m      6\u001b[0m dataset \u001b[38;5;241m=\u001b[39m pd\u001b[38;5;241m.\u001b[39mread_csv(\u001b[38;5;124m'\u001b[39m\u001b[38;5;124m/Users/farrelmanazilin/Downloads/data/milk.csv\u001b[39m\u001b[38;5;124m'\u001b[39m)\n\u001b[0;32m----> 7\u001b[0m datalabel \u001b[38;5;241m=\u001b[39m \u001b[43mdataset\u001b[49m\u001b[38;5;241;43m.\u001b[39;49m\u001b[43miloc\u001b[49m\u001b[43m[\u001b[49m\u001b[43m:\u001b[49m\u001b[43m,\u001b[49m\u001b[43m[\u001b[49m\u001b[38;5;124;43m\"\u001b[39;49m\u001b[38;5;124;43mGrade\u001b[39;49m\u001b[38;5;124;43m\"\u001b[39;49m\u001b[43m]\u001b[49m\u001b[43m]\u001b[49m\u001b[38;5;241m.\u001b[39mvalues\n\u001b[1;32m      9\u001b[0m kf \u001b[38;5;241m=\u001b[39m KFold(n_splits\u001b[38;5;241m=\u001b[39m\u001b[38;5;241m10\u001b[39m, random_state\u001b[38;5;241m=\u001b[39m\u001b[38;5;241m0\u001b[39m, shuffle\u001b[38;5;241m=\u001b[39m\u001b[38;5;28;01mTrue\u001b[39;00m)\n\u001b[1;32m     10\u001b[0m p \u001b[38;5;241m=\u001b[39m \u001b[38;5;241m0\u001b[39m\n",
      "File \u001b[0;32m~/tomatopotato/lib/python3.10/site-packages/pandas/core/indexing.py:1097\u001b[0m, in \u001b[0;36m_LocationIndexer.__getitem__\u001b[0;34m(self, key)\u001b[0m\n\u001b[1;32m   1095\u001b[0m     \u001b[38;5;28;01mif\u001b[39;00m \u001b[38;5;28mself\u001b[39m\u001b[38;5;241m.\u001b[39m_is_scalar_access(key):\n\u001b[1;32m   1096\u001b[0m         \u001b[38;5;28;01mreturn\u001b[39;00m \u001b[38;5;28mself\u001b[39m\u001b[38;5;241m.\u001b[39mobj\u001b[38;5;241m.\u001b[39m_get_value(\u001b[38;5;241m*\u001b[39mkey, takeable\u001b[38;5;241m=\u001b[39m\u001b[38;5;28mself\u001b[39m\u001b[38;5;241m.\u001b[39m_takeable)\n\u001b[0;32m-> 1097\u001b[0m     \u001b[38;5;28;01mreturn\u001b[39;00m \u001b[38;5;28;43mself\u001b[39;49m\u001b[38;5;241;43m.\u001b[39;49m\u001b[43m_getitem_tuple\u001b[49m\u001b[43m(\u001b[49m\u001b[43mkey\u001b[49m\u001b[43m)\u001b[49m\n\u001b[1;32m   1098\u001b[0m \u001b[38;5;28;01melse\u001b[39;00m:\n\u001b[1;32m   1099\u001b[0m     \u001b[38;5;66;03m# we by definition only have the 0th axis\u001b[39;00m\n\u001b[1;32m   1100\u001b[0m     axis \u001b[38;5;241m=\u001b[39m \u001b[38;5;28mself\u001b[39m\u001b[38;5;241m.\u001b[39maxis \u001b[38;5;129;01mor\u001b[39;00m \u001b[38;5;241m0\u001b[39m\n",
      "File \u001b[0;32m~/tomatopotato/lib/python3.10/site-packages/pandas/core/indexing.py:1594\u001b[0m, in \u001b[0;36m_iLocIndexer._getitem_tuple\u001b[0;34m(self, tup)\u001b[0m\n\u001b[1;32m   1593\u001b[0m \u001b[38;5;28;01mdef\u001b[39;00m \u001b[38;5;21m_getitem_tuple\u001b[39m(\u001b[38;5;28mself\u001b[39m, tup: \u001b[38;5;28mtuple\u001b[39m):\n\u001b[0;32m-> 1594\u001b[0m     tup \u001b[38;5;241m=\u001b[39m \u001b[38;5;28;43mself\u001b[39;49m\u001b[38;5;241;43m.\u001b[39;49m\u001b[43m_validate_tuple_indexer\u001b[49m\u001b[43m(\u001b[49m\u001b[43mtup\u001b[49m\u001b[43m)\u001b[49m\n\u001b[1;32m   1595\u001b[0m     \u001b[38;5;28;01mwith\u001b[39;00m suppress(IndexingError):\n\u001b[1;32m   1596\u001b[0m         \u001b[38;5;28;01mreturn\u001b[39;00m \u001b[38;5;28mself\u001b[39m\u001b[38;5;241m.\u001b[39m_getitem_lowerdim(tup)\n",
      "File \u001b[0;32m~/tomatopotato/lib/python3.10/site-packages/pandas/core/indexing.py:904\u001b[0m, in \u001b[0;36m_LocationIndexer._validate_tuple_indexer\u001b[0;34m(self, key)\u001b[0m\n\u001b[1;32m    902\u001b[0m \u001b[38;5;28;01mfor\u001b[39;00m i, k \u001b[38;5;129;01min\u001b[39;00m \u001b[38;5;28menumerate\u001b[39m(key):\n\u001b[1;32m    903\u001b[0m     \u001b[38;5;28;01mtry\u001b[39;00m:\n\u001b[0;32m--> 904\u001b[0m         \u001b[38;5;28;43mself\u001b[39;49m\u001b[38;5;241;43m.\u001b[39;49m\u001b[43m_validate_key\u001b[49m\u001b[43m(\u001b[49m\u001b[43mk\u001b[49m\u001b[43m,\u001b[49m\u001b[43m \u001b[49m\u001b[43mi\u001b[49m\u001b[43m)\u001b[49m\n\u001b[1;32m    905\u001b[0m     \u001b[38;5;28;01mexcept\u001b[39;00m \u001b[38;5;167;01mValueError\u001b[39;00m \u001b[38;5;28;01mas\u001b[39;00m err:\n\u001b[1;32m    906\u001b[0m         \u001b[38;5;28;01mraise\u001b[39;00m \u001b[38;5;167;01mValueError\u001b[39;00m(\n\u001b[1;32m    907\u001b[0m             \u001b[38;5;124m\"\u001b[39m\u001b[38;5;124mLocation based indexing can only have \u001b[39m\u001b[38;5;124m\"\u001b[39m\n\u001b[1;32m    908\u001b[0m             \u001b[38;5;124mf\u001b[39m\u001b[38;5;124m\"\u001b[39m\u001b[38;5;124m[\u001b[39m\u001b[38;5;132;01m{\u001b[39;00m\u001b[38;5;28mself\u001b[39m\u001b[38;5;241m.\u001b[39m_valid_types\u001b[38;5;132;01m}\u001b[39;00m\u001b[38;5;124m] types\u001b[39m\u001b[38;5;124m\"\u001b[39m\n\u001b[1;32m    909\u001b[0m         ) \u001b[38;5;28;01mfrom\u001b[39;00m \u001b[38;5;21;01merr\u001b[39;00m\n",
      "File \u001b[0;32m~/tomatopotato/lib/python3.10/site-packages/pandas/core/indexing.py:1512\u001b[0m, in \u001b[0;36m_iLocIndexer._validate_key\u001b[0;34m(self, key, axis)\u001b[0m\n\u001b[1;32m   1510\u001b[0m \u001b[38;5;66;03m# check that the key has a numeric dtype\u001b[39;00m\n\u001b[1;32m   1511\u001b[0m \u001b[38;5;28;01mif\u001b[39;00m \u001b[38;5;129;01mnot\u001b[39;00m is_numeric_dtype(arr\u001b[38;5;241m.\u001b[39mdtype):\n\u001b[0;32m-> 1512\u001b[0m     \u001b[38;5;28;01mraise\u001b[39;00m \u001b[38;5;167;01mIndexError\u001b[39;00m(\u001b[38;5;124mf\u001b[39m\u001b[38;5;124m\"\u001b[39m\u001b[38;5;124m.iloc requires numeric indexers, got \u001b[39m\u001b[38;5;132;01m{\u001b[39;00marr\u001b[38;5;132;01m}\u001b[39;00m\u001b[38;5;124m\"\u001b[39m)\n\u001b[1;32m   1514\u001b[0m \u001b[38;5;66;03m# check that the key does not exceed the maximum size of the index\u001b[39;00m\n\u001b[1;32m   1515\u001b[0m \u001b[38;5;28;01mif\u001b[39;00m \u001b[38;5;28mlen\u001b[39m(arr) \u001b[38;5;129;01mand\u001b[39;00m (arr\u001b[38;5;241m.\u001b[39mmax() \u001b[38;5;241m>\u001b[39m\u001b[38;5;241m=\u001b[39m len_axis \u001b[38;5;129;01mor\u001b[39;00m arr\u001b[38;5;241m.\u001b[39mmin() \u001b[38;5;241m<\u001b[39m \u001b[38;5;241m-\u001b[39mlen_axis):\n",
      "\u001b[0;31mIndexError\u001b[0m: .iloc requires numeric indexers, got ['Grade']"
     ]
    }
   ],
   "source": [
    "from sklearn.model_selection import KFold\n",
    "import numpy as np\n",
    "import pandas as pd\n",
    "from sklearn.neighbors import KNeighborsClassifier\n",
    "\n",
    "dataset = pd.read_csv('/Users/farrelmanazilin/Downloads/data/milk.csv')\n",
    "datalabel = dataset.iloc[:,[\"Grade\"]].values\n",
    "\n",
    "kf = KFold(n_splits=10, random_state=0, shuffle=True)\n",
    "p = 0\n",
    "\n",
    "for train_index, test_index in kf.split(dataset):\n",
    "    p = p + 1\n",
    "    train_data = dataset.loc[train_index].iloc[:, 1:-1]\n",
    "    test_data = dataset.loc[test_index].iloc[:, 1:-1]\n",
    "    ytrain = dataset.loc[train_index].iloc[:, [\"Grade\"]]\n",
    "    ytest = dataset.loc[test_index].iloc[:, ['Grade']]\n",
    "\n",
    "    # Normalisasi data\n",
    "    newmin = 0\n",
    "    newmax = 1\n",
    "    mindata = train_data.min()\n",
    "    maxdata = train_data.max()\n",
    "    train_data = ((train_data - mindata) * (newmax - newmin) / (maxdata - mindata)) + newmin\n",
    "    test_data = ((test_data - mindata) * (newmax - newmin) / (maxdata - mindata)) + newmin\n",
    "\n",
    "    kNN = KNeighborsClassifier(n_neighbors=5, weights='distance')\n",
    "    kNN.fit(train_data, ytrain.values.ravel())\n",
    "    hasil = kNN.predict(test_data)\n",
    "    print(\"Hasil dari k-NN untuk Fold ke-\", p, \": \", hasil)\n"
   ]
  },
  {
   "cell_type": "code",
   "execution_count": 65,
   "id": "7fdc6e61",
   "metadata": {},
   "outputs": [],
   "source": [
    "import pandas as pd\n",
    "from sklearn.model_selection import train_test_split\n",
    "from sklearn.neighbors import KNeighborsClassifier\n",
    "from sklearn.preprocessing import MinMaxScaler\n",
    "from sklearn.metrics import accuracy_score\n",
    "\n",
    "dataset = pd.read_csv('/Users/farrelmanazilin/Downloads/data/milk.csv')"
   ]
  },
  {
   "cell_type": "code",
   "execution_count": 40,
   "id": "2e1e0635",
   "metadata": {},
   "outputs": [],
   "source": [
    "dataset = pd.read_csv('/Users/farrelmanazilin/Downloads/data/milk.csv')\n",
    "\n",
    "X = dataset.iloc[:, 1:-1]  \n",
    "y = dataset['Grade']  \n",
    "\n",
    "X_train, X_test, y_train, y_test = train_test_split(X, y, test_size=0.3, random_state=100)"
   ]
  },
  {
   "cell_type": "code",
   "execution_count": 41,
   "id": "cac8b32d",
   "metadata": {},
   "outputs": [],
   "source": [
    "scaler = MinMaxScaler()\n",
    "X_train_normalized = scaler.fit_transform(X_train)\n",
    "X_test_normalized = scaler.transform(X_test) "
   ]
  },
  {
   "cell_type": "code",
   "execution_count": 45,
   "id": "8a5f79e8",
   "metadata": {},
   "outputs": [
    {
     "name": "stdout",
     "output_type": "stream",
     "text": [
      "Hasil Data Test\n",
      "       Temprature  Taste  Odor  Fat   Turbidity  Colour\n",
      "384           45      0     0     0          1     250\n",
      "288           50      0     1     1          1     255\n",
      "221           45      0     1     1          1     255\n",
      "769           40      1     1     1          1     255\n",
      "205           37      1     1     1          1     255\n",
      "...          ...    ...   ...   ...        ...     ...\n",
      "1003          38      1     0     1          0     255\n",
      "109           38      1     0     1          0     255\n",
      "325           45      0     0     0          1     255\n",
      "770           43      1     0     1          1     250\n",
      "336           66      1     0     1          1     255\n",
      "\n",
      "[318 rows x 6 columns]\n",
      "Hasil dari k-NN :  ['medium' 'low' 'high' 'low' 'high' 'high' 'low' 'high' 'low' 'high'\n",
      " 'high' 'high' 'high' 'medium' 'medium' 'medium' 'low' 'medium' 'medium'\n",
      " 'low' 'low' 'low' 'medium' 'low' 'low' 'medium' 'medium' 'low' 'high'\n",
      " 'low' 'low' 'low' 'low' 'low' 'high' 'medium' 'low' 'medium' 'low' 'high'\n",
      " 'medium' 'high' 'high' 'low' 'medium' 'high' 'high' 'medium' 'high'\n",
      " 'medium' 'low' 'low' 'high' 'low' 'medium' 'medium' 'low' 'medium' 'low'\n",
      " 'low' 'medium' 'high' 'low' 'low' 'low' 'medium' 'high' 'low' 'high'\n",
      " 'low' 'medium' 'low' 'low' 'high' 'low' 'high' 'high' 'medium' 'low'\n",
      " 'medium' 'low' 'high' 'medium' 'medium' 'low' 'low' 'low' 'low' 'high'\n",
      " 'medium' 'high' 'high' 'low' 'low' 'high' 'low' 'medium' 'low' 'low'\n",
      " 'high' 'high' 'high' 'low' 'low' 'medium' 'low' 'medium' 'medium' 'low'\n",
      " 'high' 'high' 'low' 'low' 'medium' 'low' 'medium' 'low' 'low' 'low'\n",
      " 'medium' 'low' 'high' 'medium' 'low' 'high' 'high' 'low' 'low' 'medium'\n",
      " 'low' 'medium' 'high' 'low' 'low' 'low' 'high' 'low' 'low' 'high' 'low'\n",
      " 'medium' 'high' 'low' 'low' 'medium' 'high' 'medium' 'high' 'medium'\n",
      " 'low' 'high' 'low' 'low' 'high' 'high' 'low' 'low' 'low' 'low' 'medium'\n",
      " 'high' 'low' 'high' 'low' 'low' 'medium' 'low' 'low' 'medium' 'high'\n",
      " 'low' 'medium' 'high' 'high' 'low' 'low' 'medium' 'high' 'low' 'high'\n",
      " 'low' 'medium' 'low' 'low' 'medium' 'high' 'medium' 'medium' 'high'\n",
      " 'high' 'medium' 'high' 'low' 'medium' 'high' 'low' 'low' 'high' 'low'\n",
      " 'medium' 'low' 'low' 'low' 'low' 'low' 'medium' 'low' 'medium' 'medium'\n",
      " 'medium' 'high' 'medium' 'high' 'low' 'high' 'high' 'high' 'medium'\n",
      " 'medium' 'high' 'medium' 'high' 'medium' 'high' 'low' 'low' 'medium'\n",
      " 'low' 'high' 'medium' 'high' 'low' 'high' 'medium' 'low' 'medium'\n",
      " 'medium' 'medium' 'high' 'low' 'low' 'high' 'medium' 'medium' 'low' 'low'\n",
      " 'low' 'medium' 'low' 'low' 'medium' 'low' 'medium' 'high' 'low' 'medium'\n",
      " 'low' 'high' 'high' 'low' 'low' 'low' 'low' 'high' 'high' 'low' 'high'\n",
      " 'medium' 'low' 'high' 'low' 'high' 'high' 'high' 'low' 'low' 'medium'\n",
      " 'medium' 'medium' 'medium' 'low' 'medium' 'medium' 'medium' 'low' 'low'\n",
      " 'low' 'high' 'low' 'high' 'low' 'high' 'low' 'low' 'high' 'low' 'low'\n",
      " 'low' 'low' 'medium' 'high' 'low' 'medium' 'low' 'low' 'high' 'medium'\n",
      " 'high' 'low' 'high' 'medium' 'high' 'high' 'high' 'high' 'medium' 'low'\n",
      " 'low']\n"
     ]
    }
   ],
   "source": [
    "knn = KNeighborsClassifier(n_neighbors=3)\n",
    "knn.fit(X_train_normalized, y_train)\n",
    "hasil = knn.predict(X_test_normalized)\n",
    "print(\"Hasil Data Test\\n\",X_test)\n",
    "print(\"Hasil dari k-NN : \", hasil)\t"
   ]
  },
  {
   "cell_type": "code",
   "execution_count": 43,
   "id": "1686d45c",
   "metadata": {},
   "outputs": [
    {
     "name": "stdout",
     "output_type": "stream",
     "text": [
      "Error Ratio (Hold-out Method): 0.12264150943396224\n"
     ]
    }
   ],
   "source": [
    "accuracy = accuracy_score(y_test, hasil)\n",
    "error_ratio = 1 - accuracy\n",
    "\n",
    "print(\"Error Ratio (Hold-out Method):\", error_ratio)\n"
   ]
  },
  {
   "cell_type": "code",
   "execution_count": null,
   "id": "77c7df04",
   "metadata": {},
   "outputs": [],
   "source": [
    "# Hold-out Method (70%-30%)"
   ]
  },
  {
   "cell_type": "code",
   "execution_count": 120,
   "id": "88a1c901",
   "metadata": {},
   "outputs": [
    {
     "name": "stdout",
     "output_type": "stream",
     "text": [
      "Error ratio untuk metode Hold-out (30-70%): 0.9937106918\n",
      "Error ratio untuk metode Hold-out (30-70%): 0.0062893082\n"
     ]
    }
   ],
   "source": [
    "datalabel = dataset.loc[:, ['Grade']]\n",
    "\n",
    "xtrain, xtest, ytrain, ytest = train_test_split(dataset, datalabel, test_size=0.30, random_state=100)\n",
    "test_label = np.array(xtest['Grade'])\n",
    "\n",
    "newmin = 0\n",
    "newmax = 1\n",
    "mindata = xtrain.iloc[:, 0:-1].min()\n",
    "maxdata = xtrain.iloc[:, 0:-1].max()\n",
    "train_data = ((xtrain.iloc[:, 0:-1] - mindata) * (newmax - newmin) / (maxdata - mindata)) + newmin\n",
    "test_data = ((xtest.iloc[:, 0:-1] - mindata) * (newmax - newmin) / (maxdata - mindata)) + newmin\n",
    "\n",
    "kNN = KNeighborsClassifier(n_neighbors=3, weights='distance')\n",
    "kNN.fit(train_data, ytrain.values.ravel())  \n",
    "y_pred = kNN.predict(test_data)\n",
    "\n",
    "accuracy = accuracy_score(ytest, y_pred)\n",
    "error_ratio_holdout = 1 - accuracy\n",
    "\n",
    "print(\"Error ratio untuk metode Hold-out (30-70%): {:.10f}\".format(accuracy ))\n",
    "print(\"Error ratio untuk metode Hold-out (30-70%): {:.10f}\".format(error_ratio_holdout))"
   ]
  },
  {
   "cell_type": "code",
   "execution_count": 121,
   "id": "ebaaaa09",
   "metadata": {},
   "outputs": [
    {
     "name": "stdout",
     "output_type": "stream",
     "text": [
      "           pH  Temprature  Taste  Odor  Fat   Turbidity    Colour\n",
      "255  0.584615    0.107143    1.0   0.0   1.0        0.0  0.333333\n",
      "662  0.261538    0.071429    1.0   0.0   1.0        0.0  1.000000\n",
      "899  0.553846    0.160714    0.0   0.0   1.0        0.0  0.666667\n",
      "380  0.553846    0.071429    1.0   0.0   1.0        0.0  1.000000\n",
      "954  0.553846    0.053571    1.0   0.0   1.0        0.0  1.000000\n",
      "..        ...         ...    ...   ...   ...        ...       ...\n",
      "802  0.553846    0.196429    0.0   1.0   1.0        1.0  0.666667\n",
      "53   0.784615    0.571429    1.0   0.0   1.0        1.0  1.000000\n",
      "350  0.538462    0.071429    1.0   0.0   0.0        0.0  1.000000\n",
      "79   0.584615    0.000000    0.0   0.0   0.0        1.0  0.000000\n",
      "792  0.000000    0.107143    1.0   1.0   1.0        1.0  1.000000\n",
      "\n",
      "[741 rows x 7 columns]\n",
      "            pH  Temprature  Taste  Odor  Fat   Turbidity    Colour\n",
      "384   0.553846    0.196429    0.0   0.0   0.0        1.0  0.666667\n",
      "288   0.400000    0.285714    0.0   1.0   1.0        1.0  1.000000\n",
      "221   0.584615    0.196429    0.0   1.0   1.0        1.0  1.000000\n",
      "769   0.000000    0.107143    1.0   1.0   1.0        1.0  1.000000\n",
      "205   0.553846    0.053571    1.0   1.0   1.0        1.0  1.000000\n",
      "...        ...         ...    ...   ...   ...        ...       ...\n",
      "1003  0.261538    0.071429    1.0   0.0   1.0        0.0  1.000000\n",
      "109   0.569231    0.071429    1.0   0.0   1.0        0.0  1.000000\n",
      "325   0.584615    0.196429    0.0   0.0   0.0        1.0  1.000000\n",
      "770   0.923077    0.160714    1.0   0.0   1.0        1.0  0.666667\n",
      "336   0.784615    0.571429    1.0   0.0   1.0        1.0  1.000000\n",
      "\n",
      "[318 rows x 7 columns]\n"
     ]
    }
   ],
   "source": [
    "print(train_data)\n",
    "print(test_data)"
   ]
  },
  {
   "cell_type": "markdown",
   "id": "a71feb68",
   "metadata": {},
   "source": [
    "# kfold"
   ]
  },
  {
   "cell_type": "code",
   "execution_count": null,
   "id": "6fc7a268",
   "metadata": {},
   "outputs": [],
   "source": [
    "kf = KFold(n_splits=6, random_state=0, shuffle=True)\n",
    "p = 0\n",
    "error_ratios = []\n",
    "for train_index, test_index in kf.split(dataset):\n",
    "    p=p+1\n",
    "    xtrain = dataset.loc[train_index]\n",
    "    xtest = dataset.loc[test_index]\n",
    "    ytrain = xtrain.loc[:, [\"Grade\"]]\n",
    "    ytest = xtest.loc[:, ['Grade']]\n",
    "\n",
    "    mindata_fold = xtrain.iloc[:, 0:-1].min()\n",
    "    maxdata_fold = xtrain.iloc[:, 0:-1].max()\n",
    "    train_data_fold = ((xtrain.iloc[:, 0:-1] - mindata_fold) * (newmax - newmin) / (maxdata_fold - mindata_fold)) + newmin\n",
    "    test_data_fold = ((xtest.iloc[:, 0:-1] - mindata_fold) * (newmax - newmin) / (maxdata_fold - mindata_fold)) + newmin\n",
    "\n",
    "    kNN_fold = KNeighborsClassifier(n_neighbors=3, weights='distance')\n",
    "    kNN_fold.fit(train_data_fold, ytrain.values.ravel())\n",
    "\n",
    "    y_pred_fold = kNN_fold.predict(test_data_fold)\n",
    "\n",
    "    accuracy_fold = accuracy_score(ytest, y_pred_fold)\n",
    "    error_ratio_fold = 1 - accuracy_fold\n",
    "    error_ratios.append(error_ratio_fold)\n",
    "    \n",
    "    print(f\"Fold {p}:\")\n",
    "    print(\"Train data:\")\n",
    "    print(train_data_fold)\n",
    "    print(\"Test data:\")\n",
    "    print(test_data_fold)\n",
    "    \n",
    "avg_error_ratio_kfold = np.mean(error_ratios)\n",
    "print(\"Rata-rata Error ratio untuk metode K-Fold Cross-Validation (k=10): {:.10f}\".format(avg_error_ratio_kfold))\n",
    "print(\"Rata-rata Error akurasi untuk metode K-Fold Cross-Validation (k=10): {:.10f}\".format(1-avg_error_ratio_kfold))\n",
    "#print(\"Hasil error Kfold\\n\",error_ratios)    "
   ]
  },
  {
   "cell_type": "markdown",
   "id": "cc30afa7",
   "metadata": {},
   "source": [
    "# LOO"
   ]
  },
  {
   "cell_type": "code",
   "execution_count": 124,
   "id": "fc08463a",
   "metadata": {},
   "outputs": [
    {
     "name": "stdout",
     "output_type": "stream",
     "text": [
      "Rata-rata Error ratio untuk metode Leave-One-Out (LOO) Cross-Validation: 0.0018885741\n",
      "Rata-rata Akurasi ratio untuk metode Leave-One-Out (LOO) Cross-Validation: 0.9981114259\n"
     ]
    }
   ],
   "source": [
    "loo = LeaveOneOut()\n",
    "error_ratios = []\n",
    "\n",
    "mindata_LOO = dataset.iloc[:, 0:-1].min()\n",
    "maxdata_LOO = dataset.iloc[:, 0:-1].max()\n",
    "dataset_normalized = ((dataset.iloc[:, 0:-1] - mindata_LOO) * (newmax - newmin) / (maxdata_LOO - mindata_LOO)) + newmin\n",
    "\n",
    "for train_index, test_index in loo.split(dataset_normalized):\n",
    "    xtrain = dataset_normalized.iloc[train_index]\n",
    "    xtest = dataset_normalized.iloc[test_index]\n",
    "    ytrain = datalabel.iloc[train_index]\n",
    "    ytest = datalabel.iloc[test_index]\n",
    "\n",
    "    kNN_LOO = KNeighborsClassifier(n_neighbors=3, weights='distance')\n",
    "    kNN_LOO.fit(xtrain, ytrain.values.ravel())\n",
    "\n",
    "    y_pred_LOO = kNN_LOO.predict(xtest)\n",
    "\n",
    "    accuracy_LOO = accuracy_score(ytest, y_pred_LOO)\n",
    "    error_ratio_LOO = 1 - accuracy_LOO\n",
    "\n",
    "    error_ratios.append(error_ratio_LOO)\n",
    "\n",
    "\n",
    "avg_error_ratio_LOO = np.mean(error_ratios)\n",
    "print(\"Rata-rata Error ratio untuk metode Leave-One-Out (LOO) Cross-Validation: {:.10f}\".format(avg_error_ratio_LOO))\n",
    "print(\"Rata-rata Akurasi ratio untuk metode Leave-One-Out (LOO) Cross-Validation: {:.10f}\".format(1-avg_error_ratio_LOO))\n",
    "#print(\"Hasil error LOO\\n\",error_ratios) "
   ]
  },
  {
   "cell_type": "code",
   "execution_count": 125,
   "id": "96bdfa59",
   "metadata": {},
   "outputs": [
    {
     "name": "stdout",
     "output_type": "stream",
     "text": [
      "           pH  Temprature  Taste  Odor  Fat   Turbidity    Colour\n",
      "255  0.584615    0.107143    1.0   0.0   1.0        0.0  0.333333\n",
      "662  0.261538    0.071429    1.0   0.0   1.0        0.0  1.000000\n",
      "899  0.553846    0.160714    0.0   0.0   1.0        0.0  0.666667\n",
      "380  0.553846    0.071429    1.0   0.0   1.0        0.0  1.000000\n",
      "954  0.553846    0.053571    1.0   0.0   1.0        0.0  1.000000\n",
      "..        ...         ...    ...   ...   ...        ...       ...\n",
      "802  0.553846    0.196429    0.0   1.0   1.0        1.0  0.666667\n",
      "53   0.784615    0.571429    1.0   0.0   1.0        1.0  1.000000\n",
      "350  0.538462    0.071429    1.0   0.0   0.0        0.0  1.000000\n",
      "79   0.584615    0.000000    0.0   0.0   0.0        1.0  0.000000\n",
      "792  0.000000    0.107143    1.0   1.0   1.0        1.0  1.000000\n",
      "\n",
      "[741 rows x 7 columns]\n",
      "            pH  Temprature  Taste  Odor  Fat   Turbidity    Colour\n",
      "384   0.553846    0.196429    0.0   0.0   0.0        1.0  0.666667\n",
      "288   0.400000    0.285714    0.0   1.0   1.0        1.0  1.000000\n",
      "221   0.584615    0.196429    0.0   1.0   1.0        1.0  1.000000\n",
      "769   0.000000    0.107143    1.0   1.0   1.0        1.0  1.000000\n",
      "205   0.553846    0.053571    1.0   1.0   1.0        1.0  1.000000\n",
      "...        ...         ...    ...   ...   ...        ...       ...\n",
      "1003  0.261538    0.071429    1.0   0.0   1.0        0.0  1.000000\n",
      "109   0.569231    0.071429    1.0   0.0   1.0        0.0  1.000000\n",
      "325   0.584615    0.196429    0.0   0.0   0.0        1.0  1.000000\n",
      "770   0.923077    0.160714    1.0   0.0   1.0        1.0  0.666667\n",
      "336   0.784615    0.571429    1.0   0.0   1.0        1.0  1.000000\n",
      "\n",
      "[318 rows x 7 columns]\n"
     ]
    }
   ],
   "source": [
    "print(train_data)\n",
    "print(test_data)"
   ]
  },
  {
   "cell_type": "code",
   "execution_count": null,
   "id": "db41b6b3",
   "metadata": {},
   "outputs": [],
   "source": []
  },
  {
   "cell_type": "code",
   "execution_count": null,
   "id": "2b670484",
   "metadata": {},
   "outputs": [],
   "source": []
  }
 ],
 "metadata": {
  "kernelspec": {
   "display_name": "Python 3 (ipykernel)",
   "language": "python",
   "name": "python3"
  },
  "language_info": {
   "codemirror_mode": {
    "name": "ipython",
    "version": 3
   },
   "file_extension": ".py",
   "mimetype": "text/x-python",
   "name": "python",
   "nbconvert_exporter": "python",
   "pygments_lexer": "ipython3",
   "version": "3.10.6"
  }
 },
 "nbformat": 4,
 "nbformat_minor": 5
}
