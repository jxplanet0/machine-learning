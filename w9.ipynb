{
 "cells": [
  {
   "cell_type": "code",
   "execution_count": 1,
   "id": "0de871d4",
   "metadata": {},
   "outputs": [],
   "source": [
    "from scipy.cluster.hierarchy import linkage, dendrogram, fcluster\n",
    "from sklearn.preprocessing import MinMaxScaler\n",
    "from sklearn.cluster import KMeans\n",
    "import matplotlib.pyplot as plt\n",
    "import seaborn as sns\n",
    "import pandas as pd \n",
    "import numpy as np\t"
   ]
  },
  {
   "cell_type": "markdown",
   "id": "74511490",
   "metadata": {},
   "source": [
    "# milk"
   ]
  },
  {
   "cell_type": "code",
   "execution_count": 2,
   "id": "7f1d4622",
   "metadata": {},
   "outputs": [],
   "source": [
    "dataset = pd.read_csv('/Users/farrelmanazilin/Document/kuliah/data/milk.csv')\n",
    "dataset = dataset.drop('Grade', axis=1)\n",
    "\n",
    "scaler = MinMaxScaler()\n",
    "dataset_new = scaler.fit_transform(dataset)"
   ]
  },
  {
   "cell_type": "code",
   "execution_count": 3,
   "id": "4730d485",
   "metadata": {},
   "outputs": [
    {
     "name": "stdout",
     "output_type": "stream",
     "text": [
      "\n",
      "Variance Within Clusters: 624.8924146831872\n",
      "Variance Between Clusters: 566.4817193462391\n",
      "Total Variance (Dataset Variance): 1191.3741340294262\n"
     ]
    },
    {
     "name": "stderr",
     "output_type": "stream",
     "text": [
      "/Users/farrelmanazilin/tomatopotato/lib/python3.10/site-packages/sklearn/cluster/_kmeans.py:870: FutureWarning: The default value of `n_init` will change from 10 to 'auto' in 1.4. Set the value of `n_init` explicitly to suppress the warning\n",
      "  warnings.warn(\n"
     ]
    }
   ],
   "source": [
    "kmeans = KMeans(n_clusters=3, random_state=0)\n",
    "cluster = kmeans.fit_predict(dataset_new)  \n",
    "dataset['Cluster'] = cluster\n",
    "\n",
    "k = 3\n",
    "\n",
    "cluster_centers = kmeans.cluster_centers_\n",
    "labels = kmeans.labels_\n",
    "\n",
    "variance_within_clusters = 0\n",
    "for i in range(k):\n",
    "    cluster_data = dataset_new[labels == i]\n",
    "    cluster_center = cluster_centers[i]\n",
    "    squared_distances = np.sum((cluster_data - cluster_center) ** 2)\n",
    "    variance_within_clusters += squared_distances\n",
    "\n",
    "grand_mean = np.mean(dataset_new, axis=0)\n",
    "variance_between_clusters = 0\n",
    "for i in range(k):\n",
    "    cluster_data = dataset_new[labels == i]\n",
    "    cluster_center = cluster_centers[i]\n",
    "    n = len(cluster_data)\n",
    "    squared_distances = n * np.sum((cluster_center - grand_mean) ** 2)\n",
    "    variance_between_clusters += squared_distances\n",
    "\n",
    "total_variance = np.sum((dataset_new - grand_mean) ** 2)\n",
    "\n",
    "print(\"\\nVariance Within Clusters:\", variance_within_clusters)\n",
    "print(\"Variance Between Clusters:\", variance_between_clusters)\n",
    "print(\"Total Variance (Dataset Variance):\", total_variance)"
   ]
  },
  {
   "cell_type": "code",
   "execution_count": 4,
   "id": "14c8d0b3",
   "metadata": {},
   "outputs": [
    {
     "name": "stdout",
     "output_type": "stream",
     "text": [
      "Total Variance Within Clusters:\n",
      " 131352.01142587347\n",
      "\n",
      "Total Variance Between Clusters:\n",
      " 130074.84746669892\n",
      "\n",
      "Total Variance (Dataset Variance):\n",
      " 261426.8588925724\n"
     ]
    }
   ],
   "source": [
    "single_linkage = linkage(dataset, method='single')\n",
    "\n",
    "max_d = 2.0\n",
    "clusters = fcluster(single_linkage, max_d, criterion='distance')\n",
    "\n",
    "grand_mean = np.mean(dataset, axis=0)\n",
    "\n",
    "variance_within_clusters = {}\n",
    "for cluster_id in np.unique(clusters):\n",
    "    cluster_data = dataset[clusters == cluster_id]\n",
    "    n = len(cluster_data)\n",
    "    total_variance_within_cluster = np.sum(np.sum((cluster_data - np.mean(dataset, axis=0)) ** 2))\n",
    "    variance_within_clusters[cluster_id] = total_variance_within_cluster\n",
    "\n",
    "total_variance_within_clusters = sum(variance_within_clusters.values())\n",
    "\n",
    "variance_between_clusters = 0\n",
    "for cluster_id in np.unique(clusters):\n",
    "    cluster_data = dataset[clusters == cluster_id]\n",
    "    cluster_mean = np.mean(cluster_data, axis=0)\n",
    "    n = len(cluster_data)\n",
    "    variance_between_clusters += n * np.sum((cluster_mean - grand_mean) ** 2)\n",
    "\n",
    "total_variance = total_variance_within_clusters + variance_between_clusters\n",
    "\n",
    "print(\"Total Variance Within Clusters:\\n\", total_variance_within_clusters)\n",
    "print(\"\\nTotal Variance Between Clusters:\\n\", variance_between_clusters)\n",
    "print(\"\\nTotal Variance (Dataset Variance):\\n\", total_variance)"
   ]
  },
  {
   "cell_type": "code",
   "execution_count": 5,
   "id": "1d1f6254",
   "metadata": {},
   "outputs": [
    {
     "name": "stdout",
     "output_type": "stream",
     "text": [
      "Total Variance Within Clusters:\n",
      " 131352.01142587347\n",
      "\n",
      "Total Variance Between Clusters:\n",
      " 130966.9408714785\n",
      "\n",
      "Total Variance (Dataset Variance):\n",
      " 262318.95229735196\n"
     ]
    }
   ],
   "source": [
    "average_linkage = linkage(dataset, method='average') \n",
    "\n",
    "max_d = 2.0\n",
    "clusters = fcluster(average_linkage, max_d, criterion='distance')\n",
    "\n",
    "grand_mean = np.mean(dataset, axis=0)\n",
    "\n",
    "variance_within_clusters = {}\n",
    "for cluster_id in np.unique(clusters):\n",
    "    cluster_data = dataset[clusters == cluster_id]\n",
    "    n = len(cluster_data)\n",
    "    total_variance_within_cluster = np.sum(np.sum((cluster_data - np.mean(dataset, axis=0)) ** 2))\n",
    "    variance_within_clusters[cluster_id] = total_variance_within_cluster\n",
    "\n",
    "total_variance_within_clusters = sum(variance_within_clusters.values())\n",
    "\n",
    "variance_between_clusters = 0\n",
    "for cluster_id in np.unique(clusters):\n",
    "    cluster_data = dataset[clusters == cluster_id]\n",
    "    cluster_mean = np.mean(cluster_data, axis=0)\n",
    "    n = len(cluster_data)\n",
    "    variance_between_clusters += n * np.sum((cluster_mean - grand_mean) ** 2)\n",
    "\n",
    "total_variance = total_variance_within_clusters + variance_between_clusters\n",
    "\n",
    "print(\"Total Variance Within Clusters:\\n\", total_variance_within_clusters)\n",
    "print(\"\\nTotal Variance Between Clusters:\\n\", variance_between_clusters)\n",
    "print(\"\\nTotal Variance (Dataset Variance):\\n\", total_variance)"
   ]
  },
  {
   "cell_type": "code",
   "execution_count": 6,
   "id": "594e7883",
   "metadata": {},
   "outputs": [
    {
     "name": "stdout",
     "output_type": "stream",
     "text": [
      "Total Variance Within Clusters:\n",
      " 131352.01142587344\n",
      "\n",
      "Total Variance Between Clusters:\n",
      " 131145.92959778834\n",
      "\n",
      "Total Variance (Dataset Variance):\n",
      " 262497.94102366176\n"
     ]
    }
   ],
   "source": [
    "complete_linkage = linkage(dataset, method='complete')\n",
    "\n",
    "max_d = 2.0  \n",
    "clusters = fcluster(complete_linkage, max_d, criterion='distance')\n",
    "\n",
    "grand_mean = np.mean(dataset, axis=0)\n",
    "\n",
    "variance_within_clusters = {}\n",
    "for cluster_id in np.unique(clusters):\n",
    "    cluster_data = dataset[clusters == cluster_id]\n",
    "    n = len(cluster_data)\n",
    "    total_variance_within_cluster = np.sum(np.sum((cluster_data - np.mean(dataset, axis=0)) ** 2))\n",
    "    variance_within_clusters[cluster_id] = total_variance_within_cluster\n",
    "\n",
    "total_variance_within_clusters = sum(variance_within_clusters.values())\n",
    "\n",
    "variance_between_clusters = 0\n",
    "for cluster_id in np.unique(clusters):\n",
    "    cluster_data = dataset[clusters == cluster_id]\n",
    "    cluster_mean = np.mean(cluster_data, axis=0)\n",
    "    n = len(cluster_data)\n",
    "    variance_between_clusters += n * np.sum((cluster_mean - grand_mean) ** 2)\n",
    "\n",
    "total_variance = total_variance_within_clusters + variance_between_clusters\n",
    "\n",
    "print(\"Total Variance Within Clusters:\\n\", total_variance_within_clusters)\n",
    "print(\"\\nTotal Variance Between Clusters:\\n\", variance_between_clusters)\n",
    "print(\"\\nTotal Variance (Dataset Variance):\\n\", total_variance)"
   ]
  },
  {
   "cell_type": "code",
   "execution_count": 7,
   "id": "8cd68c13",
   "metadata": {},
   "outputs": [
    {
     "name": "stdout",
     "output_type": "stream",
     "text": [
      "Total Variance Within Clusters:\n",
      " 131352.01142587344\n",
      "\n",
      "Total Variance Between Clusters:\n",
      " 130871.86709532511\n",
      "\n",
      "Total Variance (Dataset Variance):\n",
      " 262223.8785211985\n"
     ]
    }
   ],
   "source": [
    "centroid_linkage = linkage(dataset, method='centroid')\n",
    "\n",
    "max_d = 2.0  \n",
    "clusters = fcluster(centroid_linkage, max_d, criterion='distance')\n",
    "\n",
    "grand_mean = np.mean(dataset, axis=0)\n",
    "\n",
    "variance_within_clusters = {}\n",
    "for cluster_id in np.unique(clusters):\n",
    "    cluster_data = dataset[clusters == cluster_id]\n",
    "    n = len(cluster_data)\n",
    "    total_variance_within_cluster = np.sum(np.sum((cluster_data - np.mean(dataset, axis=0)) ** 2))\n",
    "    variance_within_clusters[cluster_id] = total_variance_within_cluster\n",
    "\n",
    "total_variance_within_clusters = sum(variance_within_clusters.values())\n",
    "\n",
    "variance_between_clusters = 0\n",
    "for cluster_id in np.unique(clusters):\n",
    "    cluster_data = dataset[clusters == cluster_id]\n",
    "    cluster_mean = np.mean(cluster_data, axis=0)\n",
    "    n = len(cluster_data)\n",
    "    variance_between_clusters += n * np.sum((cluster_mean - grand_mean) ** 2)\n",
    "\n",
    "total_variance = total_variance_within_clusters + variance_between_clusters\n",
    "\n",
    "print(\"Total Variance Within Clusters:\\n\", total_variance_within_clusters)\n",
    "print(\"\\nTotal Variance Between Clusters:\\n\", variance_between_clusters)\n",
    "print(\"\\nTotal Variance (Dataset Variance):\\n\", total_variance)"
   ]
  },
  {
   "cell_type": "markdown",
   "id": "7606d359",
   "metadata": {},
   "source": [
    "# water potability"
   ]
  },
  {
   "cell_type": "code",
   "execution_count": 8,
   "id": "64ce0683",
   "metadata": {},
   "outputs": [],
   "source": [
    "dataset = pd.read_csv('/Users/farrelmanazilin/Document/kuliah/data/water_potability.csv')\n",
    "dataset = dataset.fillna(dataset.groupby(\"Potability\").transform('mean'))\n",
    "dataset = dataset.drop('Potability', axis=1)\n",
    "\n",
    "scaler = MinMaxScaler()\n",
    "dataset_new = scaler.fit_transform(dataset)"
   ]
  },
  {
   "cell_type": "code",
   "execution_count": 9,
   "id": "08cd446f",
   "metadata": {},
   "outputs": [
    {
     "name": "stderr",
     "output_type": "stream",
     "text": [
      "/Users/farrelmanazilin/tomatopotato/lib/python3.10/site-packages/sklearn/cluster/_kmeans.py:870: FutureWarning: The default value of `n_init` will change from 10 to 'auto' in 1.4. Set the value of `n_init` explicitly to suppress the warning\n",
      "  warnings.warn(\n"
     ]
    },
    {
     "name": "stdout",
     "output_type": "stream",
     "text": [
      "\n",
      "Variance Within Clusters: 398.3975777040871\n",
      "Variance Between Clusters: 79.92710728029117\n",
      "Total Variance (Dataset Variance): 478.3257489867918\n"
     ]
    }
   ],
   "source": [
    "kmeans = KMeans(n_clusters=3, random_state=0)\n",
    "cluster = kmeans.fit_predict(dataset_new)  \n",
    "dataset['Cluster'] = cluster\n",
    "\n",
    "k = 3\n",
    "\n",
    "cluster_centers = kmeans.cluster_centers_\n",
    "labels = kmeans.labels_\n",
    "\n",
    "variance_within_clusters = 0\n",
    "for i in range(k):\n",
    "    cluster_data = dataset_new[labels == i]\n",
    "    cluster_center = cluster_centers[i]\n",
    "    squared_distances = np.sum((cluster_data - cluster_center) ** 2)\n",
    "    variance_within_clusters += squared_distances\n",
    "\n",
    "grand_mean = np.mean(dataset_new, axis=0)\n",
    "variance_between_clusters = 0\n",
    "for i in range(k):\n",
    "    cluster_data = dataset_new[labels == i]\n",
    "    cluster_center = cluster_centers[i]\n",
    "    n = len(cluster_data)\n",
    "    squared_distances = n * np.sum((cluster_center - grand_mean) ** 2)\n",
    "    variance_between_clusters += squared_distances\n",
    "\n",
    "total_variance = np.sum((dataset_new - grand_mean) ** 2)\n",
    "\n",
    "print(\"\\nVariance Within Clusters:\", variance_within_clusters)\n",
    "print(\"Variance Between Clusters:\", variance_between_clusters)\n",
    "print(\"Total Variance (Dataset Variance):\", total_variance)"
   ]
  },
  {
   "cell_type": "code",
   "execution_count": 10,
   "id": "d9468313",
   "metadata": {},
   "outputs": [
    {
     "name": "stdout",
     "output_type": "stream",
     "text": [
      "Total Variance Within Clusters:\n",
      " 251837740490.18808\n",
      "\n",
      "Total Variance Between Clusters:\n",
      " 251837740490.18808\n",
      "\n",
      "Total Variance (Dataset Variance):\n",
      " 503675480980.37616\n"
     ]
    }
   ],
   "source": [
    "single_linkage = linkage(dataset, method='single')\n",
    "\n",
    "max_d = 2.0  \n",
    "clusters = fcluster(single_linkage, max_d, criterion='distance')\n",
    "\n",
    "grand_mean = np.mean(dataset, axis=0)\n",
    "\n",
    "variance_within_clusters = {}\n",
    "for cluster_id in np.unique(clusters):\n",
    "    cluster_data = dataset[clusters == cluster_id]\n",
    "    n = len(cluster_data)\n",
    "    total_variance_within_cluster = np.sum(np.sum((cluster_data - np.mean(dataset, axis=0)) ** 2))\n",
    "    variance_within_clusters[cluster_id] = total_variance_within_cluster\n",
    "\n",
    "total_variance_within_clusters = sum(variance_within_clusters.values())\n",
    "\n",
    "variance_between_clusters = 0\n",
    "for cluster_id in np.unique(clusters):\n",
    "    cluster_data = dataset[clusters == cluster_id]\n",
    "    cluster_mean = np.mean(cluster_data, axis=0)\n",
    "    n = len(cluster_data)\n",
    "    variance_between_clusters += n * np.sum((cluster_mean - grand_mean) ** 2)\n",
    "\n",
    "total_variance = total_variance_within_clusters + variance_between_clusters\n",
    "\n",
    "print(\"Total Variance Within Clusters:\\n\", total_variance_within_clusters)\n",
    "print(\"\\nTotal Variance Between Clusters:\\n\", variance_between_clusters)\n",
    "print(\"\\nTotal Variance (Dataset Variance):\\n\", total_variance)"
   ]
  },
  {
   "cell_type": "code",
   "execution_count": 11,
   "id": "4287f75e",
   "metadata": {},
   "outputs": [
    {
     "name": "stdout",
     "output_type": "stream",
     "text": [
      "Total Variance Within Clusters:\n",
      " 251837740490.18845\n",
      "\n",
      "Total Variance Between Clusters:\n",
      " 251837740490.18845\n",
      "\n",
      "Total Variance (Dataset Variance):\n",
      " 503675480980.3769\n"
     ]
    }
   ],
   "source": [
    "average_linkage = linkage(dataset, method='average') \n",
    "max_d = 2.0  \n",
    "clusters = fcluster(average_linkage, max_d, criterion='distance')\n",
    "\n",
    "grand_mean = np.mean(dataset, axis=0)\n",
    "\n",
    "variance_within_clusters = {}\n",
    "for cluster_id in np.unique(clusters):\n",
    "    cluster_data = dataset[clusters == cluster_id]\n",
    "    n = len(cluster_data)\n",
    "    total_variance_within_cluster = np.sum(np.sum((cluster_data - np.mean(dataset, axis=0)) ** 2))\n",
    "    variance_within_clusters[cluster_id] = total_variance_within_cluster\n",
    "\n",
    "total_variance_within_clusters = sum(variance_within_clusters.values())\n",
    "\n",
    "variance_between_clusters = 0\n",
    "for cluster_id in np.unique(clusters):\n",
    "    cluster_data = dataset[clusters == cluster_id]\n",
    "    cluster_mean = np.mean(cluster_data, axis=0)\n",
    "    n = len(cluster_data)\n",
    "    variance_between_clusters += n * np.sum((cluster_mean - grand_mean) ** 2)\n",
    "\n",
    "total_variance = total_variance_within_clusters + variance_between_clusters\n",
    "\n",
    "print(\"Total Variance Within Clusters:\\n\", total_variance_within_clusters)\n",
    "print(\"\\nTotal Variance Between Clusters:\\n\", variance_between_clusters)\n",
    "print(\"\\nTotal Variance (Dataset Variance):\\n\", total_variance)"
   ]
  },
  {
   "cell_type": "code",
   "execution_count": 12,
   "id": "c5b50aea",
   "metadata": {},
   "outputs": [
    {
     "name": "stdout",
     "output_type": "stream",
     "text": [
      "Total Variance Within Clusters:\n",
      " 251837740490.18857\n",
      "\n",
      "Total Variance Between Clusters:\n",
      " 251837740490.18857\n",
      "\n",
      "Total Variance (Dataset Variance):\n",
      " 503675480980.37714\n"
     ]
    }
   ],
   "source": [
    "complete_linkage = linkage(dataset, method='complete')\n",
    "\n",
    "max_d = 2.0  \n",
    "clusters = fcluster(complete_linkage, max_d, criterion='distance')\n",
    "\n",
    "grand_mean = np.mean(dataset, axis=0)\n",
    "\n",
    "variance_within_clusters = {}\n",
    "for cluster_id in np.unique(clusters):\n",
    "    cluster_data = dataset[clusters == cluster_id]\n",
    "    n = len(cluster_data)\n",
    "    total_variance_within_cluster = np.sum(np.sum((cluster_data - np.mean(dataset, axis=0)) ** 2))\n",
    "    variance_within_clusters[cluster_id] = total_variance_within_cluster\n",
    "\n",
    "total_variance_within_clusters = sum(variance_within_clusters.values())\n",
    "\n",
    "variance_between_clusters = 0\n",
    "for cluster_id in np.unique(clusters):\n",
    "    cluster_data = dataset[clusters == cluster_id]\n",
    "    cluster_mean = np.mean(cluster_data, axis=0)\n",
    "    n = len(cluster_data)\n",
    "    variance_between_clusters += n * np.sum((cluster_mean - grand_mean) ** 2)\n",
    "\n",
    "total_variance = total_variance_within_clusters + variance_between_clusters\n",
    "\n",
    "print(\"Total Variance Within Clusters:\\n\", total_variance_within_clusters)\n",
    "print(\"\\nTotal Variance Between Clusters:\\n\", variance_between_clusters)\n",
    "print(\"\\nTotal Variance (Dataset Variance):\\n\", total_variance)"
   ]
  },
  {
   "cell_type": "code",
   "execution_count": 13,
   "id": "d48a5b52",
   "metadata": {},
   "outputs": [
    {
     "name": "stdout",
     "output_type": "stream",
     "text": [
      "Total Variance Within Clusters:\n",
      " 251837740490.18832\n",
      "\n",
      "Total Variance Between Clusters:\n",
      " 251837740490.18832\n",
      "\n",
      "Total Variance (Dataset Variance):\n",
      " 503675480980.37665\n"
     ]
    }
   ],
   "source": [
    "centroid_linkage = linkage(dataset, method='centroid')\n",
    "\n",
    "max_d = 2.0  \n",
    "clusters = fcluster(centroid_linkage, max_d, criterion='distance')\n",
    "\n",
    "grand_mean = np.mean(dataset, axis=0)\n",
    "\n",
    "variance_within_clusters = {}\n",
    "for cluster_id in np.unique(clusters):\n",
    "    cluster_data = dataset[clusters == cluster_id]\n",
    "    n = len(cluster_data)\n",
    "    total_variance_within_cluster = np.sum(np.sum((cluster_data - np.mean(dataset, axis=0)) ** 2))\n",
    "    variance_within_clusters[cluster_id] = total_variance_within_cluster\n",
    "\n",
    "total_variance_within_clusters = sum(variance_within_clusters.values())\n",
    "\n",
    "variance_between_clusters = 0\n",
    "for cluster_id in np.unique(clusters):\n",
    "    cluster_data = dataset[clusters == cluster_id]\n",
    "    cluster_mean = np.mean(cluster_data, axis=0)\n",
    "    n = len(cluster_data)\n",
    "    variance_between_clusters += n * np.sum((cluster_mean - grand_mean) ** 2)\n",
    "\n",
    "total_variance = total_variance_within_clusters + variance_between_clusters\n",
    "\n",
    "print(\"Total Variance Within Clusters:\\n\", total_variance_within_clusters)\n",
    "print(\"\\nTotal Variance Between Clusters:\\n\", variance_between_clusters)\n",
    "print(\"\\nTotal Variance (Dataset Variance):\\n\", total_variance)"
   ]
  },
  {
   "cell_type": "markdown",
   "id": "43c3ba4d",
   "metadata": {},
   "source": [
    "# ruspini"
   ]
  },
  {
   "cell_type": "code",
   "execution_count": 14,
   "id": "12ea6e37",
   "metadata": {},
   "outputs": [],
   "source": [
    "dataset = pd.read_csv('/Users/farrelmanazilin/Document/kuliah/data/ruspini.csv')\n",
    "dataset = dataset.drop('CLASS', axis=1)\n",
    "\n",
    "scaler = MinMaxScaler()\n",
    "dataset_new = scaler.fit_transform(dataset)"
   ]
  },
  {
   "cell_type": "code",
   "execution_count": 15,
   "id": "19bbd2d3",
   "metadata": {},
   "outputs": [
    {
     "name": "stdout",
     "output_type": "stream",
     "text": [
      "\n",
      "Variance Within Clusters: 4.618135408790582\n",
      "Variance Between Clusters: 14.789865890362032\n",
      "Total Variance (Dataset Variance): 19.408001299152616\n"
     ]
    },
    {
     "name": "stderr",
     "output_type": "stream",
     "text": [
      "/Users/farrelmanazilin/tomatopotato/lib/python3.10/site-packages/sklearn/cluster/_kmeans.py:870: FutureWarning: The default value of `n_init` will change from 10 to 'auto' in 1.4. Set the value of `n_init` explicitly to suppress the warning\n",
      "  warnings.warn(\n"
     ]
    }
   ],
   "source": [
    "kmeans = KMeans(n_clusters=3, random_state=0)\n",
    "cluster = kmeans.fit_predict(dataset_new)  \n",
    "dataset['Cluster'] = cluster\n",
    "\n",
    "k = 3\n",
    "\n",
    "cluster_centers = kmeans.cluster_centers_\n",
    "labels = kmeans.labels_\n",
    "\n",
    "variance_within_clusters = 0\n",
    "for i in range(k):\n",
    "    cluster_data = dataset_new[labels == i]\n",
    "    cluster_center = cluster_centers[i]\n",
    "    squared_distances = np.sum((cluster_data - cluster_center) ** 2)\n",
    "    variance_within_clusters += squared_distances\n",
    "\n",
    "grand_mean = np.mean(dataset_new, axis=0)\n",
    "variance_between_clusters = 0\n",
    "for i in range(k):\n",
    "    cluster_data = dataset_new[labels == i]\n",
    "    cluster_center = cluster_centers[i]\n",
    "    n = len(cluster_data)\n",
    "    squared_distances = n * np.sum((cluster_center - grand_mean) ** 2)\n",
    "    variance_between_clusters += squared_distances\n",
    "\n",
    "total_variance = np.sum((dataset_new - grand_mean) ** 2)\n",
    "\n",
    "print(\"\\nVariance Within Clusters:\", variance_within_clusters)\n",
    "print(\"Variance Between Clusters:\", variance_between_clusters)\n",
    "print(\"Total Variance (Dataset Variance):\", total_variance)"
   ]
  },
  {
   "cell_type": "code",
   "execution_count": 16,
   "id": "4c43ddcf",
   "metadata": {},
   "outputs": [
    {
     "name": "stdout",
     "output_type": "stream",
     "text": [
      "Total Variance Within Clusters:\n",
      " 279570.5333333334\n",
      "\n",
      "Total Variance Between Clusters:\n",
      " 279569.0333333334\n",
      "\n",
      "Total Variance (Dataset Variance):\n",
      " 559139.5666666668\n"
     ]
    }
   ],
   "source": [
    "single_linkage = linkage(dataset, method='single')\n",
    "\n",
    "max_d = 2.0  \n",
    "clusters = fcluster(single_linkage, max_d, criterion='distance')\n",
    "\n",
    "grand_mean = np.mean(dataset, axis=0)\n",
    "\n",
    "variance_within_clusters = {}\n",
    "for cluster_id in np.unique(clusters):\n",
    "    cluster_data = dataset[clusters == cluster_id]\n",
    "    n = len(cluster_data)\n",
    "    total_variance_within_cluster = np.sum(np.sum((cluster_data - np.mean(dataset, axis=0)) ** 2))\n",
    "    variance_within_clusters[cluster_id] = total_variance_within_cluster\n",
    "\n",
    "total_variance_within_clusters = sum(variance_within_clusters.values())\n",
    "\n",
    "variance_between_clusters = 0\n",
    "for cluster_id in np.unique(clusters):\n",
    "    cluster_data = dataset[clusters == cluster_id]\n",
    "    cluster_mean = np.mean(cluster_data, axis=0)\n",
    "    n = len(cluster_data)\n",
    "    variance_between_clusters += n * np.sum((cluster_mean - grand_mean) ** 2)\n",
    "\n",
    "total_variance = total_variance_within_clusters + variance_between_clusters\n",
    "\n",
    "print(\"Total Variance Within Clusters:\\n\", total_variance_within_clusters)\n",
    "print(\"\\nTotal Variance Between Clusters:\\n\", variance_between_clusters)\n",
    "print(\"\\nTotal Variance (Dataset Variance):\\n\", total_variance)"
   ]
  },
  {
   "cell_type": "code",
   "execution_count": 17,
   "id": "7dc2a4f9",
   "metadata": {},
   "outputs": [
    {
     "name": "stdout",
     "output_type": "stream",
     "text": [
      "Total Variance Within Clusters:\n",
      " 279570.5333333333\n",
      "\n",
      "Total Variance Between Clusters:\n",
      " 279569.0333333333\n",
      "\n",
      "Total Variance (Dataset Variance):\n",
      " 559139.5666666667\n"
     ]
    }
   ],
   "source": [
    "average_linkage = linkage(dataset, method='average') \n",
    "max_d = 2.0  \n",
    "clusters = fcluster(average_linkage, max_d, criterion='distance')\n",
    "\n",
    "grand_mean = np.mean(dataset, axis=0)\n",
    "\n",
    "variance_within_clusters = {}\n",
    "for cluster_id in np.unique(clusters):\n",
    "    cluster_data = dataset[clusters == cluster_id]\n",
    "    n = len(cluster_data)\n",
    "    total_variance_within_cluster = np.sum(np.sum((cluster_data - np.mean(dataset, axis=0)) ** 2))\n",
    "    variance_within_clusters[cluster_id] = total_variance_within_cluster\n",
    "\n",
    "total_variance_within_clusters = sum(variance_within_clusters.values())\n",
    "\n",
    "variance_between_clusters = 0\n",
    "for cluster_id in np.unique(clusters):\n",
    "    cluster_data = dataset[clusters == cluster_id]\n",
    "    cluster_mean = np.mean(cluster_data, axis=0)\n",
    "    n = len(cluster_data)\n",
    "    variance_between_clusters += n * np.sum((cluster_mean - grand_mean) ** 2)\n",
    "\n",
    "total_variance = total_variance_within_clusters + variance_between_clusters\n",
    "\n",
    "print(\"Total Variance Within Clusters:\\n\", total_variance_within_clusters)\n",
    "print(\"\\nTotal Variance Between Clusters:\\n\", variance_between_clusters)\n",
    "print(\"\\nTotal Variance (Dataset Variance):\\n\", total_variance)"
   ]
  },
  {
   "cell_type": "code",
   "execution_count": 18,
   "id": "60ce3230",
   "metadata": {},
   "outputs": [
    {
     "name": "stdout",
     "output_type": "stream",
     "text": [
      "Total Variance Within Clusters:\n",
      " 279570.53333333327\n",
      "\n",
      "Total Variance Between Clusters:\n",
      " 279569.03333333327\n",
      "\n",
      "Total Variance (Dataset Variance):\n",
      " 559139.5666666665\n"
     ]
    }
   ],
   "source": [
    "complete_linkage = linkage(dataset, method='complete')\n",
    "\n",
    "max_d = 2.0  \n",
    "clusters = fcluster(complete_linkage, max_d, criterion='distance')\n",
    "\n",
    "grand_mean = np.mean(dataset, axis=0)\n",
    "\n",
    "variance_within_clusters = {}\n",
    "for cluster_id in np.unique(clusters):\n",
    "    cluster_data = dataset[clusters == cluster_id]\n",
    "    n = len(cluster_data)\n",
    "    total_variance_within_cluster = np.sum(np.sum((cluster_data - np.mean(dataset, axis=0)) ** 2))\n",
    "    variance_within_clusters[cluster_id] = total_variance_within_cluster\n",
    "\n",
    "total_variance_within_clusters = sum(variance_within_clusters.values())\n",
    "\n",
    "variance_between_clusters = 0\n",
    "for cluster_id in np.unique(clusters):\n",
    "    cluster_data = dataset[clusters == cluster_id]\n",
    "    cluster_mean = np.mean(cluster_data, axis=0)\n",
    "    n = len(cluster_data)\n",
    "    variance_between_clusters += n * np.sum((cluster_mean - grand_mean) ** 2)\n",
    "\n",
    "total_variance = total_variance_within_clusters + variance_between_clusters\n",
    "\n",
    "print(\"Total Variance Within Clusters:\\n\", total_variance_within_clusters)\n",
    "print(\"\\nTotal Variance Between Clusters:\\n\", variance_between_clusters)\n",
    "print(\"\\nTotal Variance (Dataset Variance):\\n\", total_variance)"
   ]
  },
  {
   "cell_type": "code",
   "execution_count": 19,
   "id": "8e040b57",
   "metadata": {},
   "outputs": [
    {
     "name": "stdout",
     "output_type": "stream",
     "text": [
      "Total Variance Within Clusters:\n",
      " 279570.53333333344\n",
      "\n",
      "Total Variance Between Clusters:\n",
      " 279569.03333333344\n",
      "\n",
      "Total Variance (Dataset Variance):\n",
      " 559139.5666666669\n"
     ]
    }
   ],
   "source": [
    "centroid_linkage = linkage(dataset, method='centroid')\n",
    "\n",
    "max_d = 2.0  \n",
    "clusters = fcluster(centroid_linkage, max_d, criterion='distance')\n",
    "\n",
    "grand_mean = np.mean(dataset, axis=0)\n",
    "\n",
    "variance_within_clusters = {}\n",
    "for cluster_id in np.unique(clusters):\n",
    "    cluster_data = dataset[clusters == cluster_id]\n",
    "    n = len(cluster_data)\n",
    "    total_variance_within_cluster = np.sum(np.sum((cluster_data - np.mean(dataset, axis=0)) ** 2))\n",
    "    variance_within_clusters[cluster_id] = total_variance_within_cluster\n",
    "\n",
    "total_variance_within_clusters = sum(variance_within_clusters.values())\n",
    "\n",
    "variance_between_clusters = 0\n",
    "for cluster_id in np.unique(clusters):\n",
    "    cluster_data = dataset[clusters == cluster_id]\n",
    "    cluster_mean = np.mean(cluster_data, axis=0)\n",
    "    n = len(cluster_data)\n",
    "    variance_between_clusters += n * np.sum((cluster_mean - grand_mean) ** 2)\n",
    "\n",
    "total_variance = total_variance_within_clusters + variance_between_clusters\n",
    "\n",
    "print(\"Total Variance Within Clusters:\\n\", total_variance_within_clusters)\n",
    "print(\"\\nTotal Variance Between Clusters:\\n\", variance_between_clusters)\n",
    "print(\"\\nTotal Variance (Dataset Variance):\\n\", total_variance)"
   ]
  }
 ],
 "metadata": {
  "kernelspec": {
   "display_name": "Python 3 (ipykernel)",
   "language": "python",
   "name": "python3"
  },
  "language_info": {
   "codemirror_mode": {
    "name": "ipython",
    "version": 3
   },
   "file_extension": ".py",
   "mimetype": "text/x-python",
   "name": "python",
   "nbconvert_exporter": "python",
   "pygments_lexer": "ipython3",
   "version": "3.10.6"
  }
 },
 "nbformat": 4,
 "nbformat_minor": 5
}
