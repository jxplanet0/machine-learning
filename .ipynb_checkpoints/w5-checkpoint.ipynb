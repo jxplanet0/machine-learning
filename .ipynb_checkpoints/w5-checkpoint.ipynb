{
 "cells": [
  {
   "cell_type": "code",
   "execution_count": 10,
   "id": "5dc3e0ef",
   "metadata": {},
   "outputs": [],
   "source": [
    "from sklearn.model_selection import train_test_split\n",
    "from sklearn.neighbors import KNeighborsClassifier\n",
    "from sklearn.model_selection import LeaveOneOut\n",
    "from sklearn.preprocessing import MinMaxScaler\n",
    "from sklearn.preprocessing import LabelEncoder\n",
    "from sklearn.naive_bayes import GaussianNB\n",
    "from sklearn.metrics import accuracy_score\n",
    "from sklearn.model_selection import KFold\n",
    "import pandas as pd\n",
    "import numpy as np\n",
    "\n",
    "dataset = pd.read_csv('/Users/farrelmanazilin/Downloads/data/milk.csv')"
   ]
  },
  {
   "cell_type": "markdown",
   "id": "e54b2329",
   "metadata": {},
   "source": [
    "# Hold-out Method (70%-30%)"
   ]
  },
  {
   "cell_type": "code",
   "execution_count": 19,
   "id": "4d9135bc",
   "metadata": {},
   "outputs": [
    {
     "name": "stdout",
     "output_type": "stream",
     "text": [
      "Akurasi untuk metode Hold-out (70-30%): 0.9937106918\n",
      "Error ratio untuk metode Hold-out (70-30%): 0.0062893082\n"
     ]
    }
   ],
   "source": [
    "label_encoder = LabelEncoder()\n",
    "dataset['Grade'] = label_encoder.fit_transform(dataset['Grade'])\n",
    "\n",
    "datalabel = dataset.loc[:, ['Grade']]\n",
    "data = dataset.iloc[:, :-1]\n",
    "\n",
    "xtrain, xtest, ytrain, ytest = train_test_split(data, datalabel, test_size=0.30, random_state=100)\n",
    "\n",
    "kNN = KNeighborsClassifier(n_neighbors=3, weights='distance')\n",
    "kNN.fit(xtrain, ytrain.values.ravel())\n",
    "\n",
    "y_pred = kNN.predict(xtest)\n",
    "\n",
    "accuracy = accuracy_score(ytest, y_pred)\n",
    "error_ratio_holdout = 1 - accuracy\n",
    "\n",
    "print(\"Akurasi untuk metode Hold-out (70-30%): {:.10f}\".format(accuracy))\n",
    "print(\"Error ratio untuk metode Hold-out (70-30%): {:.10f}\".format(error_ratio_holdout))"
   ]
  },
  {
   "cell_type": "code",
   "execution_count": 20,
   "id": "53465bd0",
   "metadata": {},
   "outputs": [
    {
     "name": "stdout",
     "output_type": "stream",
     "text": [
      "Akurasi untuk metode Hold-out (70-30%): 0.9182389937\n",
      "Error ratio untuk metode Hold-out (70-30%): 0.0817610063\n"
     ]
    }
   ],
   "source": [
    "classifier = GaussianNB()\n",
    "classifier.fit(xtrain, ytrain.values.ravel())\n",
    "ypred = classifier.predict(xtest)\n",
    "\n",
    "accuracy = accuracy_score(ytest, ypred)\n",
    "error_ratio_holdout = 1 - accuracy\n",
    "\n",
    "print(\"Akurasi untuk metode Hold-out (70-30%): {:.10f}\".format(accuracy))\n",
    "print(\"Error ratio untuk metode Hold-out (70-30%): {:.10f}\".format(error_ratio_holdout))"
   ]
  },
  {
   "cell_type": "code",
   "execution_count": 21,
   "id": "96574db1",
   "metadata": {},
   "outputs": [
    {
     "name": "stdout",
     "output_type": "stream",
     "text": [
      "Error ratio untuk metode Hold-out (30-70%): 0.9937106918\n",
      "Error ratio untuk metode Hold-out (30-70%): 0.0062893082\n"
     ]
    }
   ],
   "source": [
    "min_train = xtrain.min()\n",
    "max_train = xtrain.max()\n",
    "\n",
    "xtrain_normalized = (xtrain - min_train) / (max_train - min_train)\n",
    "xtest_normalized = (xtest - min_train) / (max_train - min_train)\n",
    "\n",
    "kNN = KNeighborsClassifier(n_neighbors=3, weights='distance')\n",
    "kNN.fit(xtrain_normalized, ytrain.values.ravel())  \n",
    "y_pred = kNN.predict(xtest_normalized)\n",
    "\n",
    "accuracy = accuracy_score(ytest, y_pred)\n",
    "error_ratio_holdout = 1 - accuracy\n",
    "\n",
    "print(\"Error ratio untuk metode Hold-out (30-70%): {:.10f}\".format(accuracy ))\n",
    "print(\"Error ratio untuk metode Hold-out (30-70%): {:.10f}\".format(error_ratio_holdout))"
   ]
  },
  {
   "cell_type": "markdown",
   "id": "ec40cbf9",
   "metadata": {},
   "source": [
    "# kfold 10"
   ]
  },
  {
   "cell_type": "code",
   "execution_count": 28,
   "id": "955bde9e",
   "metadata": {},
   "outputs": [
    {
     "name": "stdout",
     "output_type": "stream",
     "text": [
      "Rata-rata Error ratio untuk metode K-Nearest Neighbors (k=10): 0.0047169811\n",
      "Rata-rata Error akurasi untuk metode K-Fold Cross-Validation (k=10): 0.9952830189\n",
      "Hasil error Kfold tanpa bayesian\n",
      " [0.009433962264150941, 0.0, 0.0, 0.009433962264150941, 0.009433962264150941, 0.009433962264150941, 0.0, 0.0, 0.009433962264150941, 0.0]\n",
      "\n",
      "Rata-rata Error ratio untuk metode Bayesian Naïve Bayes (k=10): 0.0811680144\n",
      "Rata-rata Error akurasi untuk metode Bayesian Naïve Bayes (k=10): 0.9188319856\n",
      "Hasil error Kfold dengan bayesian\n",
      " [0.23584905660377353, 0.09433962264150941, 0.07547169811320753, 0.08490566037735847, 0.09433962264150941, 0.028301886792452824, 0.09433962264150941, 0.037735849056603765, 0.028301886792452824, 0.03809523809523807]\n"
     ]
    }
   ],
   "source": [
    "kf = KFold(n_splits=10, random_state=0, shuffle=True)\n",
    "p = 0\n",
    "error_ratios_fold = []\n",
    "error_ratios_bayesian = []\n",
    "\n",
    "for train_index, test_index in kf.split(dataset):\n",
    "    p = p + 1\n",
    "    xtrain = dataset.loc[train_index]\n",
    "    xtest = dataset.loc[test_index]\n",
    "    ytrain = xtrain.loc[:, [\"Grade\"]]\n",
    "    ytest = xtest.loc[:, ['Grade']]\n",
    "\n",
    "    # K-Nearest Neighbors within K-Fold loop\n",
    "    kNN_fold = KNeighborsClassifier(n_neighbors=3, weights='distance')\n",
    "    kNN_fold.fit(xtrain.iloc[:, :-1], ytrain.values.ravel())\n",
    "    y_pred_fold_knn = kNN_fold.predict(xtest.iloc[:, :-1])\n",
    "\n",
    "    accuracy_fold_knn = accuracy_score(ytest, y_pred_fold_knn)\n",
    "    error_ratio_fold_knn = 1 - accuracy_fold_knn\n",
    "    error_ratios_fold.append(error_ratio_fold_knn)\n",
    "\n",
    "    # Gaussian Naïve Bayes within K-Fold loop\n",
    "    classifier = GaussianNB()\n",
    "    classifier.fit(xtrain.iloc[:, :-1], ytrain.values.ravel())\n",
    "    ypred_bayesian = classifier.predict(xtest.iloc[:, :-1])\n",
    "\n",
    "    accuracy_bayesian = accuracy_score(ytest, ypred_bayesian)\n",
    "    error_ratio_bayesian = 1 - accuracy_bayesian\n",
    "    error_ratios_bayesian.append(error_ratio_bayesian)\n",
    "\n",
    "avg_error_ratio_fold = np.mean(error_ratios_fold)\n",
    "avg_error_ratio_bayesian = np.mean(error_ratios_bayesian)\n",
    "\n",
    "print(\"Rata-rata Error ratio untuk metode K-Nearest Neighbors (k=10): {:.10f}\".format(avg_error_ratio_fold))\n",
    "print(\"Rata-rata Error akurasi untuk metode K-Fold Cross-Validation (k=10): {:.10f}\".format(1-avg_error_ratio_fold))\n",
    "print(\"Hasil error Kfold tanpa bayesian\\n\", error_ratios_fold)\n",
    "print(\"\\nRata-rata Error ratio untuk metode Bayesian Naïve Bayes (k=10): {:.10f}\".format(avg_error_ratio_bayesian))\n",
    "print(\"Rata-rata Error akurasi untuk metode Bayesian Naïve Bayes (k=10): {:.10f}\".format(1-avg_error_ratio_bayesian))\n",
    "print(\"Hasil error Kfold dengan bayesian\\n\", error_ratios_bayesian)\n"
   ]
  },
  {
   "cell_type": "markdown",
   "id": "1cee2edc",
   "metadata": {},
   "source": [
    "# LOO"
   ]
  },
  {
   "cell_type": "code",
   "execution_count": 30,
   "id": "9f466140",
   "metadata": {},
   "outputs": [
    {
     "name": "stdout",
     "output_type": "stream",
     "text": [
      "Rata-rata Error ratio untuk metode K-Nearest Neighbors (LOO): 0.0018885741\n",
      "Rata-rata Akurasi untuk metode K-Nearest Neighbors (LOO): 0.9981114259\n",
      "\n",
      "Rata-rata Error ratio untuk metode Bayesian Naïve Bayes (LOO): 0.0689329556\n",
      "Rata-rata Akurasi untuk metode Bayesian Naïve Bayes (LOO): 0.9310670444\n"
     ]
    }
   ],
   "source": [
    "loo = LeaveOneOut()\n",
    "error_ratios_knn = []\n",
    "error_ratios_bayesian = []\n",
    "\n",
    "mindata_LOO = dataset.iloc[:, 0:-1].min()\n",
    "maxdata_LOO = dataset.iloc[:, 0:-1].max()\n",
    "dataset_normalized = ((dataset.iloc[:, 0:-1] - mindata_LOO) * (newmax - newmin) / (maxdata_LOO - mindata_LOO)) + newmin\n",
    "\n",
    "for train_index, test_index in loo.split(dataset_normalized):\n",
    "    xtrain = dataset_normalized.iloc[train_index]\n",
    "    xtest = dataset_normalized.iloc[test_index]\n",
    "    ytrain = datalabel.iloc[train_index]\n",
    "    ytest = datalabel.iloc[test_index]\n",
    "\n",
    "    # K-Nearest Neighbors within LOO loop\n",
    "    kNN_LOO = KNeighborsClassifier(n_neighbors=3, weights='distance')\n",
    "    kNN_LOO.fit(xtrain, ytrain.values.ravel())\n",
    "    y_pred_LOO_knn = kNN_LOO.predict(xtest)\n",
    "\n",
    "    accuracy_LOO_knn = accuracy_score(ytest, y_pred_LOO_knn)\n",
    "    error_ratio_LOO_knn = 1 - accuracy_LOO_knn\n",
    "    error_ratios_knn.append(error_ratio_LOO_knn)\n",
    "\n",
    "    # Gaussian Naïve Bayes within LOO loop\n",
    "    classifier = GaussianNB()\n",
    "    classifier.fit(xtrain, ytrain.values.ravel())\n",
    "    ypred_bayesian = classifier.predict(xtest)\n",
    "\n",
    "    accuracy_bayesian = accuracy_score(ytest, ypred_bayesian)\n",
    "    error_ratio_bayesian = 1 - accuracy_bayesian\n",
    "    error_ratios_bayesian.append(error_ratio_bayesian)\n",
    "\n",
    "avg_error_ratio_LOO_knn = np.mean(error_ratios_knn)\n",
    "avg_error_ratio_LOO_bayesian = np.mean(error_ratios_bayesian)\n",
    "\n",
    "print(\"Rata-rata Error ratio untuk metode K-Nearest Neighbors (LOO): {:.10f}\".format(avg_error_ratio_LOO_knn))\n",
    "print(\"Rata-rata Akurasi untuk metode K-Nearest Neighbors (LOO): {:.10f}\".format(1 - avg_error_ratio_LOO_knn))\n",
    "print(\"\\nRata-rata Error ratio untuk metode Bayesian Naïve Bayes (LOO): {:.10f}\".format(avg_error_ratio_LOO_bayesian))\n",
    "print(\"Rata-rata Akurasi untuk metode Bayesian Naïve Bayes (LOO): {:.10f}\".format(1 - avg_error_ratio_LOO_bayesian))"
   ]
  }
 ],
 "metadata": {
  "kernelspec": {
   "display_name": "Python 3 (ipykernel)",
   "language": "python",
   "name": "python3"
  },
  "language_info": {
   "codemirror_mode": {
    "name": "ipython",
    "version": 3
   },
   "file_extension": ".py",
   "mimetype": "text/x-python",
   "name": "python",
   "nbconvert_exporter": "python",
   "pygments_lexer": "ipython3",
   "version": "3.10.6"
  }
 },
 "nbformat": 4,
 "nbformat_minor": 5
}
